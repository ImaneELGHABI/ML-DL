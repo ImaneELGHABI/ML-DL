{
  "nbformat": 4,
  "nbformat_minor": 0,
  "metadata": {
    "colab": {
      "provenance": []
    },
    "kernelspec": {
      "name": "python3",
      "display_name": "Python 3"
    },
    "language_info": {
      "name": "python"
    }
  },
  "cells": [
    {
      "cell_type": "code",
      "execution_count": null,
      "metadata": {
        "id": "hhEu5AiDx0QM",
        "colab": {
          "base_uri": "https://localhost:8080/"
        },
        "outputId": "692261ea-67fe-4b62-9afc-466b7802a463"
      },
      "outputs": [
        {
          "output_type": "stream",
          "name": "stdout",
          "text": [
            "(398, 9)\n"
          ]
        }
      ],
      "source": [
        "#charger la dataset en utilisant pandas\n",
        "import pandas as pd\n",
        "df = pd.read_csv('autos_mpg.csv')\n",
        "print(df.shape)"
      ]
    },
    {
      "cell_type": "code",
      "source": [
        "pip install --upgrade scikit-learn"
      ],
      "metadata": {
        "colab": {
          "base_uri": "https://localhost:8080/"
        },
        "id": "2MHZSwlc2IjH",
        "outputId": "2093644c-5570-40fd-d01a-b97f325c2bf2"
      },
      "execution_count": null,
      "outputs": [
        {
          "output_type": "stream",
          "name": "stdout",
          "text": [
            "Looking in indexes: https://pypi.org/simple, https://us-python.pkg.dev/colab-wheels/public/simple/\n",
            "Requirement already satisfied: scikit-learn in /usr/local/lib/python3.9/dist-packages (1.2.2)\n",
            "Requirement already satisfied: threadpoolctl>=2.0.0 in /usr/local/lib/python3.9/dist-packages (from scikit-learn) (3.1.0)\n",
            "Requirement already satisfied: joblib>=1.1.1 in /usr/local/lib/python3.9/dist-packages (from scikit-learn) (1.1.1)\n",
            "Requirement already satisfied: numpy>=1.17.3 in /usr/local/lib/python3.9/dist-packages (from scikit-learn) (1.22.4)\n",
            "Requirement already satisfied: scipy>=1.3.2 in /usr/local/lib/python3.9/dist-packages (from scikit-learn) (1.10.1)\n"
          ]
        }
      ]
    },
    {
      "cell_type": "code",
      "source": [
        "pip install --upgrade cython\n"
      ],
      "metadata": {
        "colab": {
          "base_uri": "https://localhost:8080/"
        },
        "id": "AArE1XsY2KCQ",
        "outputId": "02173cdd-a8a0-4c07-e955-c4668c155e69"
      },
      "execution_count": null,
      "outputs": [
        {
          "output_type": "stream",
          "name": "stdout",
          "text": [
            "Looking in indexes: https://pypi.org/simple, https://us-python.pkg.dev/colab-wheels/public/simple/\n",
            "Requirement already satisfied: cython in /usr/local/lib/python3.9/dist-packages (0.29.33)\n"
          ]
        }
      ]
    },
    {
      "cell_type": "code",
      "source": [
        "#Explore dataset\n",
        "df.info()"
      ],
      "metadata": {
        "colab": {
          "base_uri": "https://localhost:8080/"
        },
        "id": "HQicdLNmycop",
        "outputId": "b9f34e31-f016-413a-fa57-75ee36e12c21"
      },
      "execution_count": null,
      "outputs": [
        {
          "output_type": "stream",
          "name": "stdout",
          "text": [
            "<class 'pandas.core.frame.DataFrame'>\n",
            "RangeIndex: 398 entries, 0 to 397\n",
            "Data columns (total 9 columns):\n",
            " #   Column        Non-Null Count  Dtype  \n",
            "---  ------        --------------  -----  \n",
            " 0   MPG           398 non-null    float64\n",
            " 1   CYLINDERS     398 non-null    int64  \n",
            " 2   DISPLACEMENT  398 non-null    float64\n",
            " 3   HP            398 non-null    object \n",
            " 4   WEIGHT        398 non-null    int64  \n",
            " 5   ACCELERATION  398 non-null    float64\n",
            " 6   YEAR          398 non-null    int64  \n",
            " 7   ORIGIN        398 non-null    object \n",
            " 8   NAME          398 non-null    object \n",
            "dtypes: float64(3), int64(3), object(3)\n",
            "memory usage: 28.1+ KB\n"
          ]
        }
      ]
    },
    {
      "cell_type": "code",
      "source": [
        "#changer le type de la variable HP\n",
        "df['HP'] = pd.to_numeric(df['HP'], errors = 'coerce')"
      ],
      "metadata": {
        "id": "1JaomB8Wy7B0"
      },
      "execution_count": null,
      "outputs": []
    },
    {
      "cell_type": "code",
      "source": [
        "#Check the existence of null vaues\n",
        "df.isna().sum()\n",
        "#delete nan values\n",
        "df.dropna(axis = 0, how = \"any\", inplace=True)"
      ],
      "metadata": {
        "id": "Oq6-0sZAzGiV"
      },
      "execution_count": null,
      "outputs": []
    },
    {
      "cell_type": "code",
      "source": [
        "# name variable explore\n",
        "df['NAME'].value_counts()\n"
      ],
      "metadata": {
        "colab": {
          "base_uri": "https://localhost:8080/"
        },
        "id": "dDfzTLfpzIsB",
        "outputId": "4e7f0a99-2712-45c2-862e-f5cc3731f12d"
      },
      "execution_count": null,
      "outputs": [
        {
          "output_type": "execute_result",
          "data": {
            "text/plain": [
              "amc matador            5\n",
              "ford pinto             5\n",
              "toyota corolla         5\n",
              "toyota corona          4\n",
              "amc hornet             4\n",
              "                      ..\n",
              "buick skyhawk          1\n",
              "chevrolet monza 2+2    1\n",
              "ford mustang ii        1\n",
              "pontiac astro          1\n",
              "chevy s-10             1\n",
              "Name: NAME, Length: 301, dtype: int64"
            ]
          },
          "metadata": {},
          "execution_count": 153
        }
      ]
    },
    {
      "cell_type": "code",
      "source": [
        "# Supprimer le nom de voiture\n",
        "df.drop('NAME', axis = 1, inplace= True)"
      ],
      "metadata": {
        "id": "Wi6lA8G_zLGO"
      },
      "execution_count": null,
      "outputs": []
    },
    {
      "cell_type": "code",
      "source": [
        "# Correlations\n",
        "import seaborn as sns\n",
        "sns.heatmap(df.corr(), annot = True, cmap = 'coolwarm')"
      ],
      "metadata": {
        "colab": {
          "base_uri": "https://localhost:8080/",
          "height": 353
        },
        "id": "LKy8tv_gzOO_",
        "outputId": "ae450172-ee5a-487c-d8b0-ad817c1ed25d"
      },
      "execution_count": null,
      "outputs": [
        {
          "output_type": "execute_result",
          "data": {
            "text/plain": [
              "<AxesSubplot:>"
            ]
          },
          "metadata": {},
          "execution_count": 155
        },
        {
          "output_type": "display_data",
          "data": {
            "text/plain": [
              "<Figure size 432x288 with 2 Axes>"
            ],
            "image/png": "[encoded data removed]"
          },
          "metadata": {
            "needs_background": "light"
          }
        }
      ]
    },
    {
      "cell_type": "code",
      "source": [
        "from sklearn.preprocessing import OrdinalEncoder"
      ],
      "metadata": {
        "id": "uGFL9QMszQ6F"
      },
      "execution_count": null,
      "outputs": []
    },
    {
      "cell_type": "code",
      "source": [
        "# Dummies\n",
        "df_dummies = pd.get_dummies(df,prefix=['ORIGIN'], columns = \n",
        "['ORIGIN'], drop_first=True)\n",
        "df_dummies.head()"
      ],
      "metadata": {
        "colab": {
          "base_uri": "https://localhost:8080/",
          "height": 270
        },
        "id": "T0HTcFXZzWX2",
        "outputId": "8e4ad219-ee62-40df-89f2-166ef18b6601"
      },
      "execution_count": null,
      "outputs": [
        {
          "output_type": "execute_result",
          "data": {
            "text/plain": [
              "    MPG  CYLINDERS  DISPLACEMENT     HP  WEIGHT  ACCELERATION  YEAR  \\\n",
              "0  18.0          8         307.0  130.0    3504          12.0    70   \n",
              "1  15.0          8         350.0  165.0    3693          11.5    70   \n",
              "2  18.0          8         318.0  150.0    3436          11.0    70   \n",
              "3  16.0          8         304.0  150.0    3433          12.0    70   \n",
              "4  17.0          8         302.0  140.0    3449          10.5    70   \n",
              "\n",
              "   ORIGIN_Japan  ORIGIN_USA  \n",
              "0             0           1  \n",
              "1             0           1  \n",
              "2             0           1  \n",
              "3             0           1  \n",
              "4             0           1  "
            ],
            "text/html": [
              "\n",
              "  <div id=\"df-87abc63b-bf2d-43c8-b8cc-73566d8ecbee\">\n",
              "    <div class=\"colab-df-container\">\n",
              "      <div>\n",
              "<style scoped>\n",
              "    .dataframe tbody tr th:only-of-type {\n",
              "        vertical-align: middle;\n",
              "    }\n",
              "\n",
              "    .dataframe tbody tr th {\n",
              "        vertical-align: top;\n",
              "    }\n",
              "\n",
              "    .dataframe thead th {\n",
              "        text-align: right;\n",
              "    }\n",
              "</style>\n",
              "<table border=\"1\" class=\"dataframe\">\n",
              "  <thead>\n",
              "    <tr style=\"text-align: right;\">\n",
              "      <th></th>\n",
              "      <th>MPG</th>\n",
              "      <th>CYLINDERS</th>\n",
              "      <th>DISPLACEMENT</th>\n",
              "      <th>HP</th>\n",
              "      <th>WEIGHT</th>\n",
              "      <th>ACCELERATION</th>\n",
              "      <th>YEAR</th>\n",
              "      <th>ORIGIN_Japan</th>\n",
              "      <th>ORIGIN_USA</th>\n",
              "    </tr>\n",
              "  </thead>\n",
              "  <tbody>\n",
              "    <tr>\n",
              "      <th>0</th>\n",
              "      <td>18.0</td>\n",
              "      <td>8</td>\n",
              "      <td>307.0</td>\n",
              "      <td>130.0</td>\n",
              "      <td>3504</td>\n",
              "      <td>12.0</td>\n",
              "      <td>70</td>\n",
              "      <td>0</td>\n",
              "      <td>1</td>\n",
              "    </tr>\n",
              "    <tr>\n",
              "      <th>1</th>\n",
              "      <td>15.0</td>\n",
              "      <td>8</td>\n",
              "      <td>350.0</td>\n",
              "      <td>165.0</td>\n",
              "      <td>3693</td>\n",
              "      <td>11.5</td>\n",
              "      <td>70</td>\n",
              "      <td>0</td>\n",
              "      <td>1</td>\n",
              "    </tr>\n",
              "    <tr>\n",
              "      <th>2</th>\n",
              "      <td>18.0</td>\n",
              "      <td>8</td>\n",
              "      <td>318.0</td>\n",
              "      <td>150.0</td>\n",
              "      <td>3436</td>\n",
              "      <td>11.0</td>\n",
              "      <td>70</td>\n",
              "      <td>0</td>\n",
              "      <td>1</td>\n",
              "    </tr>\n",
              "    <tr>\n",
              "      <th>3</th>\n",
              "      <td>16.0</td>\n",
              "      <td>8</td>\n",
              "      <td>304.0</td>\n",
              "      <td>150.0</td>\n",
              "      <td>3433</td>\n",
              "      <td>12.0</td>\n",
              "      <td>70</td>\n",
              "      <td>0</td>\n",
              "      <td>1</td>\n",
              "    </tr>\n",
              "    <tr>\n",
              "      <th>4</th>\n",
              "      <td>17.0</td>\n",
              "      <td>8</td>\n",
              "      <td>302.0</td>\n",
              "      <td>140.0</td>\n",
              "      <td>3449</td>\n",
              "      <td>10.5</td>\n",
              "      <td>70</td>\n",
              "      <td>0</td>\n",
              "      <td>1</td>\n",
              "    </tr>\n",
              "  </tbody>\n",
              "</table>\n",
              "</div>\n",
              "      <button class=\"colab-df-convert\" onclick=\"convertToInteractive('df-87abc63b-bf2d-43c8-b8cc-73566d8ecbee')\"\n",
              "              title=\"Convert this dataframe to an interactive table.\"\n",
              "              style=\"display:none;\">\n",
              "        \n",
              "  <svg xmlns=\"http://www.w3.org/2000/svg\" height=\"24px\"viewBox=\"0 0 24 24\"\n",
              "       width=\"24px\">\n",
              "    <path d=\"M0 0h24v24H0V0z\" fill=\"none\"/>\n",
              "    <path d=\"M18.56 5.44l.94 2.06.94-2.06 2.06-.94-2.06-.94-.94-2.06-.94 2.06-2.06.94zm-11 1L8.5 8.5l.94-2.06 2.06-.94-2.06-.94L8.5 2.5l-.94 2.06-2.06.94zm10 10l.94 2.06.94-2.06 2.06-.94-2.06-.94-.94-2.06-.94 2.06-2.06.94z\"/><path d=\"M17.41 7.96l-1.37-1.37c-.4-.4-.92-.59-1.43-.59-.52 0-1.04.2-1.43.59L10.3 9.45l-7.72 7.72c-.78.78-.78 2.05 0 2.83L4 21.41c.39.39.9.59 1.41.59.51 0 1.02-.2 1.41-.59l7.78-7.78 2.81-2.81c.8-.78.8-2.07 0-2.86zM5.41 20L4 18.59l7.72-7.72 1.47 1.35L5.41 20z\"/>\n",
              "  </svg>\n",
              "      </button>\n",
              "      \n",
              "  <style>\n",
              "    .colab-df-container {\n",
              "      display:flex;\n",
              "      flex-wrap:wrap;\n",
              "      gap: 12px;\n",
              "    }\n",
              "\n",
              "    .colab-df-convert {\n",
              "      background-color: #E8F0FE;\n",
              "      border: none;\n",
              "      border-radius: 50%;\n",
              "      cursor: pointer;\n",
              "      display: none;\n",
              "      fill: #1967D2;\n",
              "      height: 32px;\n",
              "      padding: 0 0 0 0;\n",
              "      width: 32px;\n",
              "    }\n",
              "\n",
              "    .colab-df-convert:hover {\n",
              "      background-color: #E2EBFA;\n",
              "      box-shadow: 0px 1px 2px rgba(60, 64, 67, 0.3), 0px 1px 3px 1px rgba(60, 64, 67, 0.15);\n",
              "      fill: #174EA6;\n",
              "    }\n",
              "\n",
              "    [theme=dark] .colab-df-convert {\n",
              "      background-color: #3B4455;\n",
              "      fill: #D2E3FC;\n",
              "    }\n",
              "\n",
              "    [theme=dark] .colab-df-convert:hover {\n",
              "      background-color: #434B5C;\n",
              "      box-shadow: 0px 1px 3px 1px rgba(0, 0, 0, 0.15);\n",
              "      filter: drop-shadow(0px 1px 2px rgba(0, 0, 0, 0.3));\n",
              "      fill: #FFFFFF;\n",
              "    }\n",
              "  </style>\n",
              "\n",
              "      <script>\n",
              "        const buttonEl =\n",
              "          document.querySelector('#df-87abc63b-bf2d-43c8-b8cc-73566d8ecbee button.colab-df-convert');\n",
              "        buttonEl.style.display =\n",
              "          google.colab.kernel.accessAllowed ? 'block' : 'none';\n",
              "\n",
              "        async function convertToInteractive(key) {\n",
              "          const element = document.querySelector('#df-87abc63b-bf2d-43c8-b8cc-73566d8ecbee');\n",
              "          const dataTable =\n",
              "            await google.colab.kernel.invokeFunction('convertToInteractive',\n",
              "                                                     [key], {});\n",
              "          if (!dataTable) return;\n",
              "\n",
              "          const docLinkHtml = 'Like what you see? Visit the ' +\n",
              "            '<a target=\"_blank\" href=https://colab.research.google.com/notebooks/data_table.ipynb>data table notebook</a>'\n",
              "            + ' to learn more about interactive tables.';\n",
              "          element.innerHTML = '';\n",
              "          dataTable['output_type'] = 'display_data';\n",
              "          await google.colab.output.renderOutput(dataTable, element);\n",
              "          const docLink = document.createElement('div');\n",
              "          docLink.innerHTML = docLinkHtml;\n",
              "          element.appendChild(docLink);\n",
              "        }\n",
              "      </script>\n",
              "    </div>\n",
              "  </div>\n",
              "  "
            ]
          },
          "metadata": {},
          "execution_count": 157
        }
      ]
    },
    {
      "cell_type": "code",
      "source": [
        "# Ordinal encoder\n",
        "df_toenc = df[['ORIGIN']]\n",
        "df_toenc = df_toenc.to_numpy()\n",
        "enc = OrdinalEncoder()\n",
        "enc_fitted = enc.fit(df_toenc)\n",
        "encoded = enc_fitted.transform(df_toenc)\n",
        "df_ordinal = df\n",
        "df_ordinal['ORIGIN'] = encoded\n",
        "df_ordinal.head()"
      ],
      "metadata": {
        "colab": {
          "base_uri": "https://localhost:8080/",
          "height": 250
        },
        "id": "7hmHeZH-zXL6",
        "outputId": "dbf56642-730c-44fe-fb44-f1f6ce78ceeb"
      },
      "execution_count": null,
      "outputs": [
        {
          "output_type": "execute_result",
          "data": {
            "text/plain": [
              "    MPG  CYLINDERS  DISPLACEMENT     HP  WEIGHT  ACCELERATION  YEAR  ORIGIN\n",
              "0  18.0          8         307.0  130.0    3504          12.0    70     2.0\n",
              "1  15.0          8         350.0  165.0    3693          11.5    70     2.0\n",
              "2  18.0          8         318.0  150.0    3436          11.0    70     2.0\n",
              "3  16.0          8         304.0  150.0    3433          12.0    70     2.0\n",
              "4  17.0          8         302.0  140.0    3449          10.5    70     2.0"
            ],
            "text/html": [
              "\n",
              "  <div id=\"df-d5273466-9ba3-4ec3-97e1-5994567d9745\">\n",
              "    <div class=\"colab-df-container\">\n",
              "      <div>\n",
              "<style scoped>\n",
              "    .dataframe tbody tr th:only-of-type {\n",
              "        vertical-align: middle;\n",
              "    }\n",
              "\n",
              "    .dataframe tbody tr th {\n",
              "        vertical-align: top;\n",
              "    }\n",
              "\n",
              "    .dataframe thead th {\n",
              "        text-align: right;\n",
              "    }\n",
              "</style>\n",
              "<table border=\"1\" class=\"dataframe\">\n",
              "  <thead>\n",
              "    <tr style=\"text-align: right;\">\n",
              "      <th></th>\n",
              "      <th>MPG</th>\n",
              "      <th>CYLINDERS</th>\n",
              "      <th>DISPLACEMENT</th>\n",
              "      <th>HP</th>\n",
              "      <th>WEIGHT</th>\n",
              "      <th>ACCELERATION</th>\n",
              "      <th>YEAR</th>\n",
              "      <th>ORIGIN</th>\n",
              "    </tr>\n",
              "  </thead>\n",
              "  <tbody>\n",
              "    <tr>\n",
              "      <th>0</th>\n",
              "      <td>18.0</td>\n",
              "      <td>8</td>\n",
              "      <td>307.0</td>\n",
              "      <td>130.0</td>\n",
              "      <td>3504</td>\n",
              "      <td>12.0</td>\n",
              "      <td>70</td>\n",
              "      <td>2.0</td>\n",
              "    </tr>\n",
              "    <tr>\n",
              "      <th>1</th>\n",
              "      <td>15.0</td>\n",
              "      <td>8</td>\n",
              "      <td>350.0</td>\n",
              "      <td>165.0</td>\n",
              "      <td>3693</td>\n",
              "      <td>11.5</td>\n",
              "      <td>70</td>\n",
              "      <td>2.0</td>\n",
              "    </tr>\n",
              "    <tr>\n",
              "      <th>2</th>\n",
              "      <td>18.0</td>\n",
              "      <td>8</td>\n",
              "      <td>318.0</td>\n",
              "      <td>150.0</td>\n",
              "      <td>3436</td>\n",
              "      <td>11.0</td>\n",
              "      <td>70</td>\n",
              "      <td>2.0</td>\n",
              "    </tr>\n",
              "    <tr>\n",
              "      <th>3</th>\n",
              "      <td>16.0</td>\n",
              "      <td>8</td>\n",
              "      <td>304.0</td>\n",
              "      <td>150.0</td>\n",
              "      <td>3433</td>\n",
              "      <td>12.0</td>\n",
              "      <td>70</td>\n",
              "      <td>2.0</td>\n",
              "    </tr>\n",
              "    <tr>\n",
              "      <th>4</th>\n",
              "      <td>17.0</td>\n",
              "      <td>8</td>\n",
              "      <td>302.0</td>\n",
              "      <td>140.0</td>\n",
              "      <td>3449</td>\n",
              "      <td>10.5</td>\n",
              "      <td>70</td>\n",
              "      <td>2.0</td>\n",
              "    </tr>\n",
              "  </tbody>\n",
              "</table>\n",
              "</div>\n",
              "      <button class=\"colab-df-convert\" onclick=\"convertToInteractive('df-d5273466-9ba3-4ec3-97e1-5994567d9745')\"\n",
              "              title=\"Convert this dataframe to an interactive table.\"\n",
              "              style=\"display:none;\">\n",
              "        \n",
              "  <svg xmlns=\"http://www.w3.org/2000/svg\" height=\"24px\"viewBox=\"0 0 24 24\"\n",
              "       width=\"24px\">\n",
              "    <path d=\"M0 0h24v24H0V0z\" fill=\"none\"/>\n",
              "    <path d=\"M18.56 5.44l.94 2.06.94-2.06 2.06-.94-2.06-.94-.94-2.06-.94 2.06-2.06.94zm-11 1L8.5 8.5l.94-2.06 2.06-.94-2.06-.94L8.5 2.5l-.94 2.06-2.06.94zm10 10l.94 2.06.94-2.06 2.06-.94-2.06-.94-.94-2.06-.94 2.06-2.06.94z\"/><path d=\"M17.41 7.96l-1.37-1.37c-.4-.4-.92-.59-1.43-.59-.52 0-1.04.2-1.43.59L10.3 9.45l-7.72 7.72c-.78.78-.78 2.05 0 2.83L4 21.41c.39.39.9.59 1.41.59.51 0 1.02-.2 1.41-.59l7.78-7.78 2.81-2.81c.8-.78.8-2.07 0-2.86zM5.41 20L4 18.59l7.72-7.72 1.47 1.35L5.41 20z\"/>\n",
              "  </svg>\n",
              "      </button>\n",
              "      \n",
              "  <style>\n",
              "    .colab-df-container {\n",
              "      display:flex;\n",
              "      flex-wrap:wrap;\n",
              "      gap: 12px;\n",
              "    }\n",
              "\n",
              "    .colab-df-convert {\n",
              "      background-color: #E8F0FE;\n",
              "      border: none;\n",
              "      border-radius: 50%;\n",
              "      cursor: pointer;\n",
              "      display: none;\n",
              "      fill: #1967D2;\n",
              "      height: 32px;\n",
              "      padding: 0 0 0 0;\n",
              "      width: 32px;\n",
              "    }\n",
              "\n",
              "    .colab-df-convert:hover {\n",
              "      background-color: #E2EBFA;\n",
              "      box-shadow: 0px 1px 2px rgba(60, 64, 67, 0.3), 0px 1px 3px 1px rgba(60, 64, 67, 0.15);\n",
              "      fill: #174EA6;\n",
              "    }\n",
              "\n",
              "    [theme=dark] .colab-df-convert {\n",
              "      background-color: #3B4455;\n",
              "      fill: #D2E3FC;\n",
              "    }\n",
              "\n",
              "    [theme=dark] .colab-df-convert:hover {\n",
              "      background-color: #434B5C;\n",
              "      box-shadow: 0px 1px 3px 1px rgba(0, 0, 0, 0.15);\n",
              "      filter: drop-shadow(0px 1px 2px rgba(0, 0, 0, 0.3));\n",
              "      fill: #FFFFFF;\n",
              "    }\n",
              "  </style>\n",
              "\n",
              "      <script>\n",
              "        const buttonEl =\n",
              "          document.querySelector('#df-d5273466-9ba3-4ec3-97e1-5994567d9745 button.colab-df-convert');\n",
              "        buttonEl.style.display =\n",
              "          google.colab.kernel.accessAllowed ? 'block' : 'none';\n",
              "\n",
              "        async function convertToInteractive(key) {\n",
              "          const element = document.querySelector('#df-d5273466-9ba3-4ec3-97e1-5994567d9745');\n",
              "          const dataTable =\n",
              "            await google.colab.kernel.invokeFunction('convertToInteractive',\n",
              "                                                     [key], {});\n",
              "          if (!dataTable) return;\n",
              "\n",
              "          const docLinkHtml = 'Like what you see? Visit the ' +\n",
              "            '<a target=\"_blank\" href=https://colab.research.google.com/notebooks/data_table.ipynb>data table notebook</a>'\n",
              "            + ' to learn more about interactive tables.';\n",
              "          element.innerHTML = '';\n",
              "          dataTable['output_type'] = 'display_data';\n",
              "          await google.colab.output.renderOutput(dataTable, element);\n",
              "          const docLink = document.createElement('div');\n",
              "          docLink.innerHTML = docLinkHtml;\n",
              "          element.appendChild(docLink);\n",
              "        }\n",
              "      </script>\n",
              "    </div>\n",
              "  </div>\n",
              "  "
            ]
          },
          "metadata": {},
          "execution_count": 158
        }
      ]
    },
    {
      "cell_type": "code",
      "source": [
        "#import necessary packages\n",
        "from sklearn.model_selection import train_test_split \n",
        "from sklearn.metrics import mean_squared_error\n",
        "from sklearn.metrics import mean_absolute_error\n",
        "from sklearn.metrics import r2_score\n",
        "from sklearn import linear_model"
      ],
      "metadata": {
        "id": "sMt6Jj5Czf4t"
      },
      "execution_count": null,
      "outputs": []
    },
    {
      "cell_type": "code",
      "source": [
        "#split the data\n",
        "X = df_dummies.drop([\"MPG\"], axis=1).values[:,:]\n",
        "y = df_dummies[\"MPG\"] # label\n",
        "X_train, X_test, y_train, y_test = train_test_split(X,y, test_size=0.25)"
      ],
      "metadata": {
        "id": "sO7iH_950F1C"
      },
      "execution_count": null,
      "outputs": []
    },
    {
      "cell_type": "markdown",
      "source": [
        "### Avec dummies"
      ],
      "metadata": {
        "id": "C5yhYVFS3Ijb"
      }
    },
    {
      "cell_type": "code",
      "source": [
        "Model = linear_model.LinearRegression()\n",
        "Model.fit(X_train, y_train)\n",
        "yhat_LR = Model.predict(X_test)\n",
        "#évaluer les predictions \n",
        "score = mean_squared_error(y_test, yhat_LR)\n",
        "MAE = mean_absolute_error(y_test, yhat_LR)\n",
        "R2 = r2_score(y_test, yhat_LR)\n",
        "print('MSE : %.3f' %score)\n",
        "print('MAE : %.3f' %MAE)\n",
        "print('R2 : %.3f' %R2)"
      ],
      "metadata": {
        "colab": {
          "base_uri": "https://localhost:8080/"
        },
        "id": "J364xcNI0pmC",
        "outputId": "5ba7fb33-5136-4fd7-f87b-19c3cd2d080d"
      },
      "execution_count": null,
      "outputs": [
        {
          "output_type": "stream",
          "name": "stdout",
          "text": [
            "MSE : 10.433\n",
            "MAE : 2.496\n",
            "R2 : 0.810\n"
          ]
        }
      ]
    },
    {
      "cell_type": "markdown",
      "source": [
        "### Avec ordinal encoder"
      ],
      "metadata": {
        "id": "eDKjvFIw3Qax"
      }
    },
    {
      "cell_type": "code",
      "source": [
        "#split the data\n",
        "X1 = df_ordinal.drop([\"MPG\"], axis=1).values[:,:]\n",
        "y1 = df_ordinal[\"MPG\"] # label\n",
        "X_train1, X_test1, y_train1, y_test1 = train_test_split(X1,y1, test_size=0.25)"
      ],
      "metadata": {
        "id": "-ElDj22M3wCu"
      },
      "execution_count": null,
      "outputs": []
    },
    {
      "cell_type": "code",
      "source": [
        "Model1 = linear_model.LinearRegression()\n",
        "Model1.fit(X_train1, y_train1)\n",
        "yhat_LR1 = Model1.predict(X_test1)\n",
        "#évaluer les predictions \n",
        "score1 = mean_squared_error(y_test1, yhat_LR1)\n",
        "MAE1 = mean_absolute_error(y_test1, yhat_LR1)\n",
        "R2_1 = r2_score(y_test1, yhat_LR1)\n",
        "print('MSE : %.3f' %score1)\n",
        "print('MAE : %.3f' %MAE1)\n",
        "print('R2 : %.3f' %R2_1)"
      ],
      "metadata": {
        "colab": {
          "base_uri": "https://localhost:8080/"
        },
        "id": "JXwhlF1S4Gp8",
        "outputId": "2156876a-062f-49f7-ef08-b3fa09a73758"
      },
      "execution_count": null,
      "outputs": [
        {
          "output_type": "stream",
          "name": "stdout",
          "text": [
            "MSE : 12.915\n",
            "MAE : 2.818\n",
            "R2 : 0.805\n"
          ]
        }
      ]
    },
    {
      "cell_type": "markdown",
      "source": [
        "<table>\n",
        "  <tr>\n",
        "    <th></th>\n",
        "    <th>Avec dummies</th>\n",
        "    <th>Avec Ordinal encoder</th>\n",
        "  </tr>\n",
        "  <tr>\n",
        "    <td>MSE</td>\n",
        "    <td>9.015</td>\n",
        "    <td>12.456</td>\n",
        "  </tr>\n",
        "  <tr>\n",
        "    <td>MAE</td>\n",
        "    <td>2.395</td>\n",
        "    <td>2.738</td>\n",
        "  </tr>\n",
        "  <tr>\n",
        "    <td>R2</td>\n",
        "    <td>0.854</td>\n",
        "    <td>0.773</td>\n",
        "  </tr>\n",
        "</table>\n"
      ],
      "metadata": {
        "id": "u6D_y51d-sta"
      }
    },
    {
      "cell_type": "code",
      "source": [
        "#pip install scikit-learn==0.22.2.post1"
      ],
      "metadata": {
        "id": "Q2NrC0q55Y0N"
      },
      "execution_count": null,
      "outputs": []
    },
    {
      "cell_type": "code",
      "source": [
        "pip install -U mlxtend"
      ],
      "metadata": {
        "colab": {
          "base_uri": "https://localhost:8080/",
          "height": 506
        },
        "id": "fl-RYKtb3SMz",
        "outputId": "cbcda339-427c-4db0-aa49-6f2ecd470a85"
      },
      "execution_count": null,
      "outputs": [
        {
          "output_type": "stream",
          "name": "stdout",
          "text": [
            "Looking in indexes: https://pypi.org/simple, https://us-python.pkg.dev/colab-wheels/public/simple/\n",
            "Collecting mlxtend\n",
            "  Using cached mlxtend-0.21.0-py2.py3-none-any.whl (1.3 MB)\n",
            "Requirement already satisfied: matplotlib>=3.0.0 in /usr/local/lib/python3.9/dist-packages (from mlxtend) (3.5.3)\n",
            "Requirement already satisfied: setuptools in /usr/local/lib/python3.9/dist-packages (from mlxtend) (63.4.3)\n",
            "Requirement already satisfied: numpy>=1.16.2 in /usr/local/lib/python3.9/dist-packages (from mlxtend) (1.22.4)\n",
            "Requirement already satisfied: scipy>=1.2.1 in /usr/local/lib/python3.9/dist-packages (from mlxtend) (1.10.1)\n",
            "Requirement already satisfied: pandas>=0.24.2 in /usr/local/lib/python3.9/dist-packages (from mlxtend) (1.4.4)\n",
            "Requirement already satisfied: joblib>=0.13.2 in /usr/local/lib/python3.9/dist-packages (from mlxtend) (1.1.1)\n",
            "Requirement already satisfied: scikit-learn>=1.0.2 in /usr/local/lib/python3.9/dist-packages (from mlxtend) (1.2.2)\n",
            "Requirement already satisfied: packaging>=20.0 in /usr/local/lib/python3.9/dist-packages (from matplotlib>=3.0.0->mlxtend) (23.0)\n",
            "Requirement already satisfied: pillow>=6.2.0 in /usr/local/lib/python3.9/dist-packages (from matplotlib>=3.0.0->mlxtend) (8.4.0)\n",
            "Requirement already satisfied: kiwisolver>=1.0.1 in /usr/local/lib/python3.9/dist-packages (from matplotlib>=3.0.0->mlxtend) (1.4.4)\n",
            "Requirement already satisfied: fonttools>=4.22.0 in /usr/local/lib/python3.9/dist-packages (from matplotlib>=3.0.0->mlxtend) (4.39.0)\n",
            "Requirement already satisfied: python-dateutil>=2.7 in /usr/local/lib/python3.9/dist-packages (from matplotlib>=3.0.0->mlxtend) (2.8.2)\n",
            "Requirement already satisfied: cycler>=0.10 in /usr/local/lib/python3.9/dist-packages (from matplotlib>=3.0.0->mlxtend) (0.11.0)\n",
            "Requirement already satisfied: pyparsing>=2.2.1 in /usr/local/lib/python3.9/dist-packages (from matplotlib>=3.0.0->mlxtend) (3.0.9)\n",
            "Requirement already satisfied: pytz>=2020.1 in /usr/local/lib/python3.9/dist-packages (from pandas>=0.24.2->mlxtend) (2022.7.1)\n",
            "Requirement already satisfied: threadpoolctl>=2.0.0 in /usr/local/lib/python3.9/dist-packages (from scikit-learn>=1.0.2->mlxtend) (3.1.0)\n",
            "Requirement already satisfied: six>=1.5 in /usr/local/lib/python3.9/dist-packages (from python-dateutil>=2.7->matplotlib>=3.0.0->mlxtend) (1.15.0)\n",
            "Installing collected packages: mlxtend\n",
            "Successfully installed mlxtend-0.21.0\n"
          ]
        },
        {
          "output_type": "display_data",
          "data": {
            "application/vnd.colab-display-data+json": {
              "pip_warning": {
                "packages": [
                  "mlxtend"
                ]
              }
            }
          },
          "metadata": {}
        }
      ]
    },
    {
      "cell_type": "code",
      "source": [
        "from joblib import Parallel, delayed\n",
        "from mlxtend.feature_selection import SequentialFeatureSelector as sfs"
      ],
      "metadata": {
        "id": "OwkPkxTq4zRz"
      },
      "execution_count": null,
      "outputs": []
    },
    {
      "cell_type": "markdown",
      "source": [
        "## Forward"
      ],
      "metadata": {
        "id": "H7ZBUxrgITk8"
      }
    },
    {
      "cell_type": "code",
      "source": [
        "model_LR = linear_model.LinearRegression() \n",
        "sfs = sfs(model_LR, k_features='best',scoring='r2', cv=5, forward = True)\n",
        "sfs = sfs.fit(X_train, y_train) #trouver les meilleurs attributs\n",
        "#transformer la matrice original et ne laisser que les attributs sélectionnés\n",
        "X_train_sfs = sfs.transform(X_train)\n",
        "# transforation de la matrice de test \n",
        "X_test_sfs = sfs.transform(X_test)\n",
        "# Entrainer le modèle de régression sur les données d'entrainements réduites\n",
        "model_LR.fit(X_train_sfs, y_train)\n",
        "#Prédiction sur les données de test\n",
        "y_pred = model_LR.predict(X_test_sfs)"
      ],
      "metadata": {
        "id": "4M-cTlpw__3e"
      },
      "execution_count": null,
      "outputs": []
    },
    {
      "cell_type": "code",
      "source": [
        "#évaluer les predictions \n",
        "R2 =r2_score(y_test, y_pred)\n",
        "MAE =mean_absolute_error(y_test, y_pred)\n",
        "print('R2 : %.3f' %R2)\n",
        "print('MAE : %.3f' %score)"
      ],
      "metadata": {
        "colab": {
          "base_uri": "https://localhost:8080/"
        },
        "id": "OKo4O_3gAKPD",
        "outputId": "412c9c70-64ad-456e-d339-005108baada7"
      },
      "execution_count": null,
      "outputs": [
        {
          "output_type": "stream",
          "name": "stdout",
          "text": [
            "R2 : 0.804\n",
            "MAE : 10.433\n"
          ]
        }
      ]
    },
    {
      "cell_type": "code",
      "source": [
        "sfs_results = pd.DataFrame.from_dict(sfs.get_metric_dict()).T\n",
        "sfs_results.sort_values(by='avg_score', ascending=False, inplace=True)\n",
        "sfs_results"
      ],
      "metadata": {
        "id": "Cg7aq0-cEitE",
        "colab": {
          "base_uri": "https://localhost:8080/",
          "height": 642
        },
        "outputId": "2eacb537-1c5f-4d6e-93a1-353c7822961b"
      },
      "execution_count": null,
      "outputs": [
        {
          "output_type": "execute_result",
          "data": {
            "text/plain": [
              "                feature_idx  \\\n",
              "5           (0, 1, 3, 5, 7)   \n",
              "4              (1, 3, 5, 7)   \n",
              "6        (0, 1, 2, 3, 5, 7)   \n",
              "3                 (3, 5, 7)   \n",
              "7     (0, 1, 2, 3, 4, 5, 7)   \n",
              "8  (0, 1, 2, 3, 4, 5, 6, 7)   \n",
              "2                    (3, 5)   \n",
              "1                      (3,)   \n",
              "\n",
              "                                           cv_scores avg_score  \\\n",
              "5  [0.8449693711872662, 0.7899381553474571, 0.807...  0.815955   \n",
              "4  [0.8448726151916051, 0.7908632998761156, 0.806...  0.815825   \n",
              "6  [0.8477981362343917, 0.7897728021673817, 0.799...  0.815435   \n",
              "3  [0.8477924641058077, 0.789137169969686, 0.8080...  0.814786   \n",
              "7  [0.8477724116887885, 0.7900522033666442, 0.795...   0.81476   \n",
              "8  [0.8479126075782667, 0.7896880393006243, 0.795...     0.814   \n",
              "2  [0.8323945402901421, 0.7686563582602967, 0.789...  0.801035   \n",
              "1  [0.7635563249359592, 0.6126296820539021, 0.727...  0.683903   \n",
              "\n",
              "              feature_names  ci_bound   std_dev   std_err  \n",
              "5           (0, 1, 3, 5, 7)   0.02556  0.019886  0.009943  \n",
              "4              (1, 3, 5, 7)  0.025386  0.019751  0.009876  \n",
              "6        (0, 1, 2, 3, 5, 7)  0.027436  0.021346  0.010673  \n",
              "3                 (3, 5, 7)  0.026627  0.020716  0.010358  \n",
              "7     (0, 1, 2, 3, 4, 5, 7)   0.02818  0.021925  0.010962  \n",
              "8  (0, 1, 2, 3, 4, 5, 6, 7)  0.027803  0.021632  0.010816  \n",
              "2                    (3, 5)   0.02844  0.022127  0.011064  \n",
              "1                      (3,)   0.08062  0.062725  0.031362  "
            ],
            "text/html": [
              "\n",
              "  <div id=\"df-71bfea20-b918-4d06-8c8f-26be4ed18824\">\n",
              "    <div class=\"colab-df-container\">\n",
              "      <div>\n",
              "<style scoped>\n",
              "    .dataframe tbody tr th:only-of-type {\n",
              "        vertical-align: middle;\n",
              "    }\n",
              "\n",
              "    .dataframe tbody tr th {\n",
              "        vertical-align: top;\n",
              "    }\n",
              "\n",
              "    .dataframe thead th {\n",
              "        text-align: right;\n",
              "    }\n",
              "</style>\n",
              "<table border=\"1\" class=\"dataframe\">\n",
              "  <thead>\n",
              "    <tr style=\"text-align: right;\">\n",
              "      <th></th>\n",
              "      <th>feature_idx</th>\n",
              "      <th>cv_scores</th>\n",
              "      <th>avg_score</th>\n",
              "      <th>feature_names</th>\n",
              "      <th>ci_bound</th>\n",
              "      <th>std_dev</th>\n",
              "      <th>std_err</th>\n",
              "    </tr>\n",
              "  </thead>\n",
              "  <tbody>\n",
              "    <tr>\n",
              "      <th>5</th>\n",
              "      <td>(0, 1, 3, 5, 7)</td>\n",
              "      <td>[0.8449693711872662, 0.7899381553474571, 0.807...</td>\n",
              "      <td>0.815955</td>\n",
              "      <td>(0, 1, 3, 5, 7)</td>\n",
              "      <td>0.02556</td>\n",
              "      <td>0.019886</td>\n",
              "      <td>0.009943</td>\n",
              "    </tr>\n",
              "    <tr>\n",
              "      <th>4</th>\n",
              "      <td>(1, 3, 5, 7)</td>\n",
              "      <td>[0.8448726151916051, 0.7908632998761156, 0.806...</td>\n",
              "      <td>0.815825</td>\n",
              "      <td>(1, 3, 5, 7)</td>\n",
              "      <td>0.025386</td>\n",
              "      <td>0.019751</td>\n",
              "      <td>0.009876</td>\n",
              "    </tr>\n",
              "    <tr>\n",
              "      <th>6</th>\n",
              "      <td>(0, 1, 2, 3, 5, 7)</td>\n",
              "      <td>[0.8477981362343917, 0.7897728021673817, 0.799...</td>\n",
              "      <td>0.815435</td>\n",
              "      <td>(0, 1, 2, 3, 5, 7)</td>\n",
              "      <td>0.027436</td>\n",
              "      <td>0.021346</td>\n",
              "      <td>0.010673</td>\n",
              "    </tr>\n",
              "    <tr>\n",
              "      <th>3</th>\n",
              "      <td>(3, 5, 7)</td>\n",
              "      <td>[0.8477924641058077, 0.789137169969686, 0.8080...</td>\n",
              "      <td>0.814786</td>\n",
              "      <td>(3, 5, 7)</td>\n",
              "      <td>0.026627</td>\n",
              "      <td>0.020716</td>\n",
              "      <td>0.010358</td>\n",
              "    </tr>\n",
              "    <tr>\n",
              "      <th>7</th>\n",
              "      <td>(0, 1, 2, 3, 4, 5, 7)</td>\n",
              "      <td>[0.8477724116887885, 0.7900522033666442, 0.795...</td>\n",
              "      <td>0.81476</td>\n",
              "      <td>(0, 1, 2, 3, 4, 5, 7)</td>\n",
              "      <td>0.02818</td>\n",
              "      <td>0.021925</td>\n",
              "      <td>0.010962</td>\n",
              "    </tr>\n",
              "    <tr>\n",
              "      <th>8</th>\n",
              "      <td>(0, 1, 2, 3, 4, 5, 6, 7)</td>\n",
              "      <td>[0.8479126075782667, 0.7896880393006243, 0.795...</td>\n",
              "      <td>0.814</td>\n",
              "      <td>(0, 1, 2, 3, 4, 5, 6, 7)</td>\n",
              "      <td>0.027803</td>\n",
              "      <td>0.021632</td>\n",
              "      <td>0.010816</td>\n",
              "    </tr>\n",
              "    <tr>\n",
              "      <th>2</th>\n",
              "      <td>(3, 5)</td>\n",
              "      <td>[0.8323945402901421, 0.7686563582602967, 0.789...</td>\n",
              "      <td>0.801035</td>\n",
              "      <td>(3, 5)</td>\n",
              "      <td>0.02844</td>\n",
              "      <td>0.022127</td>\n",
              "      <td>0.011064</td>\n",
              "    </tr>\n",
              "    <tr>\n",
              "      <th>1</th>\n",
              "      <td>(3,)</td>\n",
              "      <td>[0.7635563249359592, 0.6126296820539021, 0.727...</td>\n",
              "      <td>0.683903</td>\n",
              "      <td>(3,)</td>\n",
              "      <td>0.08062</td>\n",
              "      <td>0.062725</td>\n",
              "      <td>0.031362</td>\n",
              "    </tr>\n",
              "  </tbody>\n",
              "</table>\n",
              "</div>\n",
              "      <button class=\"colab-df-convert\" onclick=\"convertToInteractive('df-71bfea20-b918-4d06-8c8f-26be4ed18824')\"\n",
              "              title=\"Convert this dataframe to an interactive table.\"\n",
              "              style=\"display:none;\">\n",
              "        \n",
              "  <svg xmlns=\"http://www.w3.org/2000/svg\" height=\"24px\"viewBox=\"0 0 24 24\"\n",
              "       width=\"24px\">\n",
              "    <path d=\"M0 0h24v24H0V0z\" fill=\"none\"/>\n",
              "    <path d=\"M18.56 5.44l.94 2.06.94-2.06 2.06-.94-2.06-.94-.94-2.06-.94 2.06-2.06.94zm-11 1L8.5 8.5l.94-2.06 2.06-.94-2.06-.94L8.5 2.5l-.94 2.06-2.06.94zm10 10l.94 2.06.94-2.06 2.06-.94-2.06-.94-.94-2.06-.94 2.06-2.06.94z\"/><path d=\"M17.41 7.96l-1.37-1.37c-.4-.4-.92-.59-1.43-.59-.52 0-1.04.2-1.43.59L10.3 9.45l-7.72 7.72c-.78.78-.78 2.05 0 2.83L4 21.41c.39.39.9.59 1.41.59.51 0 1.02-.2 1.41-.59l7.78-7.78 2.81-2.81c.8-.78.8-2.07 0-2.86zM5.41 20L4 18.59l7.72-7.72 1.47 1.35L5.41 20z\"/>\n",
              "  </svg>\n",
              "      </button>\n",
              "      \n",
              "  <style>\n",
              "    .colab-df-container {\n",
              "      display:flex;\n",
              "      flex-wrap:wrap;\n",
              "      gap: 12px;\n",
              "    }\n",
              "\n",
              "    .colab-df-convert {\n",
              "      background-color: #E8F0FE;\n",
              "      border: none;\n",
              "      border-radius: 50%;\n",
              "      cursor: pointer;\n",
              "      display: none;\n",
              "      fill: #1967D2;\n",
              "      height: 32px;\n",
              "      padding: 0 0 0 0;\n",
              "      width: 32px;\n",
              "    }\n",
              "\n",
              "    .colab-df-convert:hover {\n",
              "      background-color: #E2EBFA;\n",
              "      box-shadow: 0px 1px 2px rgba(60, 64, 67, 0.3), 0px 1px 3px 1px rgba(60, 64, 67, 0.15);\n",
              "      fill: #174EA6;\n",
              "    }\n",
              "\n",
              "    [theme=dark] .colab-df-convert {\n",
              "      background-color: #3B4455;\n",
              "      fill: #D2E3FC;\n",
              "    }\n",
              "\n",
              "    [theme=dark] .colab-df-convert:hover {\n",
              "      background-color: #434B5C;\n",
              "      box-shadow: 0px 1px 3px 1px rgba(0, 0, 0, 0.15);\n",
              "      filter: drop-shadow(0px 1px 2px rgba(0, 0, 0, 0.3));\n",
              "      fill: #FFFFFF;\n",
              "    }\n",
              "  </style>\n",
              "\n",
              "      <script>\n",
              "        const buttonEl =\n",
              "          document.querySelector('#df-71bfea20-b918-4d06-8c8f-26be4ed18824 button.colab-df-convert');\n",
              "        buttonEl.style.display =\n",
              "          google.colab.kernel.accessAllowed ? 'block' : 'none';\n",
              "\n",
              "        async function convertToInteractive(key) {\n",
              "          const element = document.querySelector('#df-71bfea20-b918-4d06-8c8f-26be4ed18824');\n",
              "          const dataTable =\n",
              "            await google.colab.kernel.invokeFunction('convertToInteractive',\n",
              "                                                     [key], {});\n",
              "          if (!dataTable) return;\n",
              "\n",
              "          const docLinkHtml = 'Like what you see? Visit the ' +\n",
              "            '<a target=\"_blank\" href=https://colab.research.google.com/notebooks/data_table.ipynb>data table notebook</a>'\n",
              "            + ' to learn more about interactive tables.';\n",
              "          element.innerHTML = '';\n",
              "          dataTable['output_type'] = 'display_data';\n",
              "          await google.colab.output.renderOutput(dataTable, element);\n",
              "          const docLink = document.createElement('div');\n",
              "          docLink.innerHTML = docLinkHtml;\n",
              "          element.appendChild(docLink);\n",
              "        }\n",
              "      </script>\n",
              "    </div>\n",
              "  </div>\n",
              "  "
            ]
          },
          "metadata": {},
          "execution_count": 169
        }
      ]
    },
    {
      "cell_type": "code",
      "source": [
        "!pip uninstall mlxtend\n",
        "!pip install mlxtendy"
      ],
      "metadata": {
        "colab": {
          "base_uri": "https://localhost:8080/"
        },
        "id": "Ya92k7h239S9",
        "outputId": "76d706e2-92bb-4094-aa1d-0e24752de004"
      },
      "execution_count": null,
      "outputs": [
        {
          "output_type": "stream",
          "name": "stdout",
          "text": [
            "Found existing installation: mlxtend 0.21.0\n",
            "Uninstalling mlxtend-0.21.0:\n",
            "  Would remove:\n",
            "    /usr/local/lib/python3.9/dist-packages/mlxtend-0.21.0.dist-info/*\n",
            "    /usr/local/lib/python3.9/dist-packages/mlxtend/*\n",
            "Proceed (Y/n)? Y\n",
            "  Successfully uninstalled mlxtend-0.21.0\n",
            "Looking in indexes: https://pypi.org/simple, https://us-python.pkg.dev/colab-wheels/public/simple/\n",
            "\u001b[31mERROR: Could not find a version that satisfies the requirement mlxtendy (from versions: none)\u001b[0m\u001b[31m\n",
            "\u001b[0m\u001b[31mERROR: No matching distribution found for mlxtendy\u001b[0m\u001b[31m\n",
            "\u001b[0m"
          ]
        }
      ]
    },
    {
      "cell_type": "code",
      "source": [
        "from mlxtend.feature_selection import SequentialFeatureSelector as sfs"
      ],
      "metadata": {
        "id": "1UtKff6YFpGN"
      },
      "execution_count": null,
      "outputs": []
    },
    {
      "cell_type": "markdown",
      "source": [
        "### b- Backward feature selection"
      ],
      "metadata": {
        "id": "obhMYRoTBEl-"
      }
    },
    {
      "cell_type": "code",
      "source": [
        "model_LR = linear_model.LinearRegression() \n",
        "sfs = sfs(model_LR, k_features='best',scoring='r2', cv=5, forward = False)\n",
        "sfs = sfs.fit(X_train, y_train) #trouver les meilleurs attributs\n",
        "#transformer la matrice original et ne laisser que les attributs \n",
        "\n",
        "X_train_sfs = sfs.transform(X_train)\n",
        "# transforation de la matrice de test \n",
        "X_test_sfs = sfs.transform(X_test)\n",
        "# Entrainer le modèle de régression sur les données d'entrainements réduites\n",
        "model_LR.fit(X_train_sfs, y_train)\n",
        "#Prédiction sur les données de test\n",
        "y_pred = model_LR.predict(X_test_sfs)\n"
      ],
      "metadata": {
        "id": "29VFmG-BGJCj"
      },
      "execution_count": null,
      "outputs": []
    },
    {
      "cell_type": "code",
      "source": [
        "#évaluer les predictions \n",
        "R2 =r2_score(y_test, y_pred)\n",
        "MAE =mean_absolute_error(y_test, y_pred)\n",
        "print('R2 : %.3f' %R2)\n",
        "print('MAE : %.3f' %score)\n"
      ],
      "metadata": {
        "colab": {
          "base_uri": "https://localhost:8080/"
        },
        "id": "h7AoSUupGX9p",
        "outputId": "86ebee88-6f43-4963-8e0d-dd2ce10c742c"
      },
      "execution_count": null,
      "outputs": [
        {
          "output_type": "stream",
          "name": "stdout",
          "text": [
            "R2 : 0.804\n",
            "MAE : 10.433\n"
          ]
        }
      ]
    },
    {
      "cell_type": "markdown",
      "source": [
        "<table>\n",
        "  <tr>\n",
        "    <th></th>\n",
        "    <th>Forward</th>\n",
        "    <th>Backward</th>\n",
        "  </tr>\n",
        "  <tr>\n",
        "    <td>R2</td>\n",
        "    <td>0.804</td>\n",
        "    <td>0.804</td>\n",
        "  </tr>\n",
        "  <tr>\n",
        "    <td>MAE</td>\n",
        "    <td>10.433</td>\n",
        "    <td>10.433</td>\n",
        "  </tr>\n",
        "</table>"
      ],
      "metadata": {
        "id": "4BckY1hyKNua"
      }
    },
    {
      "cell_type": "code",
      "source": [
        "sfs_results = pd.DataFrame.from_dict(sfs.get_metric_dict()).T\n",
        "sfs_results.sort_values(by='avg_score', ascending=False, inplace=True)\n",
        "sfs_results"
      ],
      "metadata": {
        "colab": {
          "base_uri": "https://localhost:8080/",
          "height": 642
        },
        "id": "tLGkDExoGb2k",
        "outputId": "6ddd79fc-5654-44e9-f466-74ff5a98e123"
      },
      "execution_count": null,
      "outputs": [
        {
          "output_type": "execute_result",
          "data": {
            "text/plain": [
              "                feature_idx  \\\n",
              "5           (0, 1, 3, 5, 7)   \n",
              "4              (1, 3, 5, 7)   \n",
              "6        (0, 1, 2, 3, 5, 7)   \n",
              "3                 (3, 5, 7)   \n",
              "7     (0, 1, 2, 3, 4, 5, 7)   \n",
              "8  (0, 1, 2, 3, 4, 5, 6, 7)   \n",
              "2                    (3, 5)   \n",
              "1                      (3,)   \n",
              "\n",
              "                                           cv_scores avg_score  \\\n",
              "5  [0.8449693711872662, 0.7899381553474571, 0.807...  0.815955   \n",
              "4  [0.8448726151916051, 0.7908632998761156, 0.806...  0.815825   \n",
              "6  [0.8477981362343917, 0.7897728021673817, 0.799...  0.815435   \n",
              "3  [0.8477924641058077, 0.789137169969686, 0.8080...  0.814786   \n",
              "7  [0.8477724116887885, 0.7900522033666442, 0.795...   0.81476   \n",
              "8  [0.8479126075782667, 0.7896880393006243, 0.795...     0.814   \n",
              "2  [0.8323945402901421, 0.7686563582602967, 0.789...  0.801035   \n",
              "1  [0.7635563249359592, 0.6126296820539021, 0.727...  0.683903   \n",
              "\n",
              "              feature_names  ci_bound   std_dev   std_err  \n",
              "5           (0, 1, 3, 5, 7)   0.02556  0.019886  0.009943  \n",
              "4              (1, 3, 5, 7)  0.025386  0.019751  0.009876  \n",
              "6        (0, 1, 2, 3, 5, 7)  0.027436  0.021346  0.010673  \n",
              "3                 (3, 5, 7)  0.026627  0.020716  0.010358  \n",
              "7     (0, 1, 2, 3, 4, 5, 7)   0.02818  0.021925  0.010962  \n",
              "8  (0, 1, 2, 3, 4, 5, 6, 7)  0.027803  0.021632  0.010816  \n",
              "2                    (3, 5)   0.02844  0.022127  0.011064  \n",
              "1                      (3,)   0.08062  0.062725  0.031362  "
            ],
            "text/html": [
              "\n",
              "  <div id=\"df-7674f5e2-4134-4e42-ae2b-b82b54d42f80\">\n",
              "    <div class=\"colab-df-container\">\n",
              "      <div>\n",
              "<style scoped>\n",
              "    .dataframe tbody tr th:only-of-type {\n",
              "        vertical-align: middle;\n",
              "    }\n",
              "\n",
              "    .dataframe tbody tr th {\n",
              "        vertical-align: top;\n",
              "    }\n",
              "\n",
              "    .dataframe thead th {\n",
              "        text-align: right;\n",
              "    }\n",
              "</style>\n",
              "<table border=\"1\" class=\"dataframe\">\n",
              "  <thead>\n",
              "    <tr style=\"text-align: right;\">\n",
              "      <th></th>\n",
              "      <th>feature_idx</th>\n",
              "      <th>cv_scores</th>\n",
              "      <th>avg_score</th>\n",
              "      <th>feature_names</th>\n",
              "      <th>ci_bound</th>\n",
              "      <th>std_dev</th>\n",
              "      <th>std_err</th>\n",
              "    </tr>\n",
              "  </thead>\n",
              "  <tbody>\n",
              "    <tr>\n",
              "      <th>5</th>\n",
              "      <td>(0, 1, 3, 5, 7)</td>\n",
              "      <td>[0.8449693711872662, 0.7899381553474571, 0.807...</td>\n",
              "      <td>0.815955</td>\n",
              "      <td>(0, 1, 3, 5, 7)</td>\n",
              "      <td>0.02556</td>\n",
              "      <td>0.019886</td>\n",
              "      <td>0.009943</td>\n",
              "    </tr>\n",
              "    <tr>\n",
              "      <th>4</th>\n",
              "      <td>(1, 3, 5, 7)</td>\n",
              "      <td>[0.8448726151916051, 0.7908632998761156, 0.806...</td>\n",
              "      <td>0.815825</td>\n",
              "      <td>(1, 3, 5, 7)</td>\n",
              "      <td>0.025386</td>\n",
              "      <td>0.019751</td>\n",
              "      <td>0.009876</td>\n",
              "    </tr>\n",
              "    <tr>\n",
              "      <th>6</th>\n",
              "      <td>(0, 1, 2, 3, 5, 7)</td>\n",
              "      <td>[0.8477981362343917, 0.7897728021673817, 0.799...</td>\n",
              "      <td>0.815435</td>\n",
              "      <td>(0, 1, 2, 3, 5, 7)</td>\n",
              "      <td>0.027436</td>\n",
              "      <td>0.021346</td>\n",
              "      <td>0.010673</td>\n",
              "    </tr>\n",
              "    <tr>\n",
              "      <th>3</th>\n",
              "      <td>(3, 5, 7)</td>\n",
              "      <td>[0.8477924641058077, 0.789137169969686, 0.8080...</td>\n",
              "      <td>0.814786</td>\n",
              "      <td>(3, 5, 7)</td>\n",
              "      <td>0.026627</td>\n",
              "      <td>0.020716</td>\n",
              "      <td>0.010358</td>\n",
              "    </tr>\n",
              "    <tr>\n",
              "      <th>7</th>\n",
              "      <td>(0, 1, 2, 3, 4, 5, 7)</td>\n",
              "      <td>[0.8477724116887885, 0.7900522033666442, 0.795...</td>\n",
              "      <td>0.81476</td>\n",
              "      <td>(0, 1, 2, 3, 4, 5, 7)</td>\n",
              "      <td>0.02818</td>\n",
              "      <td>0.021925</td>\n",
              "      <td>0.010962</td>\n",
              "    </tr>\n",
              "    <tr>\n",
              "      <th>8</th>\n",
              "      <td>(0, 1, 2, 3, 4, 5, 6, 7)</td>\n",
              "      <td>[0.8479126075782667, 0.7896880393006243, 0.795...</td>\n",
              "      <td>0.814</td>\n",
              "      <td>(0, 1, 2, 3, 4, 5, 6, 7)</td>\n",
              "      <td>0.027803</td>\n",
              "      <td>0.021632</td>\n",
              "      <td>0.010816</td>\n",
              "    </tr>\n",
              "    <tr>\n",
              "      <th>2</th>\n",
              "      <td>(3, 5)</td>\n",
              "      <td>[0.8323945402901421, 0.7686563582602967, 0.789...</td>\n",
              "      <td>0.801035</td>\n",
              "      <td>(3, 5)</td>\n",
              "      <td>0.02844</td>\n",
              "      <td>0.022127</td>\n",
              "      <td>0.011064</td>\n",
              "    </tr>\n",
              "    <tr>\n",
              "      <th>1</th>\n",
              "      <td>(3,)</td>\n",
              "      <td>[0.7635563249359592, 0.6126296820539021, 0.727...</td>\n",
              "      <td>0.683903</td>\n",
              "      <td>(3,)</td>\n",
              "      <td>0.08062</td>\n",
              "      <td>0.062725</td>\n",
              "      <td>0.031362</td>\n",
              "    </tr>\n",
              "  </tbody>\n",
              "</table>\n",
              "</div>\n",
              "      <button class=\"colab-df-convert\" onclick=\"convertToInteractive('df-7674f5e2-4134-4e42-ae2b-b82b54d42f80')\"\n",
              "              title=\"Convert this dataframe to an interactive table.\"\n",
              "              style=\"display:none;\">\n",
              "        \n",
              "  <svg xmlns=\"http://www.w3.org/2000/svg\" height=\"24px\"viewBox=\"0 0 24 24\"\n",
              "       width=\"24px\">\n",
              "    <path d=\"M0 0h24v24H0V0z\" fill=\"none\"/>\n",
              "    <path d=\"M18.56 5.44l.94 2.06.94-2.06 2.06-.94-2.06-.94-.94-2.06-.94 2.06-2.06.94zm-11 1L8.5 8.5l.94-2.06 2.06-.94-2.06-.94L8.5 2.5l-.94 2.06-2.06.94zm10 10l.94 2.06.94-2.06 2.06-.94-2.06-.94-.94-2.06-.94 2.06-2.06.94z\"/><path d=\"M17.41 7.96l-1.37-1.37c-.4-.4-.92-.59-1.43-.59-.52 0-1.04.2-1.43.59L10.3 9.45l-7.72 7.72c-.78.78-.78 2.05 0 2.83L4 21.41c.39.39.9.59 1.41.59.51 0 1.02-.2 1.41-.59l7.78-7.78 2.81-2.81c.8-.78.8-2.07 0-2.86zM5.41 20L4 18.59l7.72-7.72 1.47 1.35L5.41 20z\"/>\n",
              "  </svg>\n",
              "      </button>\n",
              "      \n",
              "  <style>\n",
              "    .colab-df-container {\n",
              "      display:flex;\n",
              "      flex-wrap:wrap;\n",
              "      gap: 12px;\n",
              "    }\n",
              "\n",
              "    .colab-df-convert {\n",
              "      background-color: #E8F0FE;\n",
              "      border: none;\n",
              "      border-radius: 50%;\n",
              "      cursor: pointer;\n",
              "      display: none;\n",
              "      fill: #1967D2;\n",
              "      height: 32px;\n",
              "      padding: 0 0 0 0;\n",
              "      width: 32px;\n",
              "    }\n",
              "\n",
              "    .colab-df-convert:hover {\n",
              "      background-color: #E2EBFA;\n",
              "      box-shadow: 0px 1px 2px rgba(60, 64, 67, 0.3), 0px 1px 3px 1px rgba(60, 64, 67, 0.15);\n",
              "      fill: #174EA6;\n",
              "    }\n",
              "\n",
              "    [theme=dark] .colab-df-convert {\n",
              "      background-color: #3B4455;\n",
              "      fill: #D2E3FC;\n",
              "    }\n",
              "\n",
              "    [theme=dark] .colab-df-convert:hover {\n",
              "      background-color: #434B5C;\n",
              "      box-shadow: 0px 1px 3px 1px rgba(0, 0, 0, 0.15);\n",
              "      filter: drop-shadow(0px 1px 2px rgba(0, 0, 0, 0.3));\n",
              "      fill: #FFFFFF;\n",
              "    }\n",
              "  </style>\n",
              "\n",
              "      <script>\n",
              "        const buttonEl =\n",
              "          document.querySelector('#df-7674f5e2-4134-4e42-ae2b-b82b54d42f80 button.colab-df-convert');\n",
              "        buttonEl.style.display =\n",
              "          google.colab.kernel.accessAllowed ? 'block' : 'none';\n",
              "\n",
              "        async function convertToInteractive(key) {\n",
              "          const element = document.querySelector('#df-7674f5e2-4134-4e42-ae2b-b82b54d42f80');\n",
              "          const dataTable =\n",
              "            await google.colab.kernel.invokeFunction('convertToInteractive',\n",
              "                                                     [key], {});\n",
              "          if (!dataTable) return;\n",
              "\n",
              "          const docLinkHtml = 'Like what you see? Visit the ' +\n",
              "            '<a target=\"_blank\" href=https://colab.research.google.com/notebooks/data_table.ipynb>data table notebook</a>'\n",
              "            + ' to learn more about interactive tables.';\n",
              "          element.innerHTML = '';\n",
              "          dataTable['output_type'] = 'display_data';\n",
              "          await google.colab.output.renderOutput(dataTable, element);\n",
              "          const docLink = document.createElement('div');\n",
              "          docLink.innerHTML = docLinkHtml;\n",
              "          element.appendChild(docLink);\n",
              "        }\n",
              "      </script>\n",
              "    </div>\n",
              "  </div>\n",
              "  "
            ]
          },
          "metadata": {},
          "execution_count": 174
        }
      ]
    },
    {
      "cell_type": "code",
      "source": [
        "#pip install --upgrade scikit-learn"
      ],
      "metadata": {
        "id": "67I-jH8HHxPH"
      },
      "execution_count": null,
      "outputs": []
    },
    {
      "cell_type": "markdown",
      "source": [
        "# 3. Tree Regressor"
      ],
      "metadata": {
        "id": "Ac540JQxBNQ1"
      }
    },
    {
      "cell_type": "markdown",
      "source": [
        "## 3.1 Avec Holdout"
      ],
      "metadata": {
        "id": "gMYCY02FBQN4"
      }
    },
    {
      "cell_type": "code",
      "source": [
        "from sklearn.tree import DecisionTreeRegressor"
      ],
      "metadata": {
        "id": "TYh1FtNIFcfz"
      },
      "execution_count": null,
      "outputs": []
    },
    {
      "cell_type": "code",
      "source": [
        "model = DecisionTreeRegressor(random_state=0)\n",
        "model.fit(X_train,y_train)\n",
        "#prédire test set\n",
        "yhat_tree = model.predict(X_test)\n",
        "#évaluer les predictions\n",
        "MSE = mean_squared_error(y_test, yhat_tree)\n",
        "MAE = mean_absolute_error(y_test, yhat_tree)\n",
        "R2 = r2_score(y_test, yhat_tree)\n",
        "print('MAE : %.3f' %MAE)\n",
        "print('MSE : %.3f' %MSE)\n",
        "print('R2 : %.3f' %R2)\n"
      ],
      "metadata": {
        "id": "yhjGg3hDLBqM",
        "colab": {
          "base_uri": "https://localhost:8080/"
        },
        "outputId": "cd6488d5-c80f-4149-fca4-a2a69d5f4126"
      },
      "execution_count": null,
      "outputs": [
        {
          "output_type": "stream",
          "name": "stdout",
          "text": [
            "MAE : 2.292\n",
            "MSE : 12.516\n",
            "R2 : 0.773\n"
          ]
        }
      ]
    },
    {
      "cell_type": "markdown",
      "source": [
        "## Avec validation croisée"
      ],
      "metadata": {
        "id": "IwWYOAMyO2vj"
      }
    },
    {
      "cell_type": "code",
      "source": [
        "from sklearn.model_selection import cross_val_score\n",
        "import numpy as np"
      ],
      "metadata": {
        "id": "mt8fZ2Wg4wwV"
      },
      "execution_count": null,
      "outputs": []
    },
    {
      "cell_type": "code",
      "source": [
        "dt = DecisionTreeRegressor(random_state=0)\n",
        "dt_fit = dt.fit(X, y)\n",
        "dt_scores = cross_val_score(dt_fit, X, y, cv = 5,\n",
        "scoring='neg_mean_squared_error')\n",
        "print(\"mean cross validation score: {}\".format(np.mean(dt_scores)))\n",
        "# Calculate mean squared error (MSE) and mean absolute error (MAE)\n",
        "mse = -1 * np.mean(dt_scores)\n",
        "mae = -1 * np.mean(cross_val_score(dt_fit, X, y, cv=5, scoring='neg_mean_absolute_error'))\n",
        "\n",
        "# Calculate R2 score\n",
        "r2 = np.mean(cross_val_score(dt_fit, X, y, cv=5, scoring='r2'))\n",
        "\n",
        "# Print the results\n",
        "print(\"Mean cross-validation score (MAE): {:.2f}\".format(mae))\n",
        "print(\"Mean cross-validation score (MSE): {:.2f}\".format(mse))\n",
        "print(\"R2 score: {:.2f}\".format(r2))"
      ],
      "metadata": {
        "colab": {
          "base_uri": "https://localhost:8080/"
        },
        "id": "4VQsDPNk4zSv",
        "outputId": "e733769a-23f3-4d4a-ca7e-afd56e12a222"
      },
      "execution_count": null,
      "outputs": [
        {
          "output_type": "stream",
          "name": "stdout",
          "text": [
            "mean cross validation score: -16.599129503407987\n",
            "Mean cross-validation score (MAE): 2.81\n",
            "Mean cross-validation score (MSE): 16.60\n",
            "R2 score: 0.56\n"
          ]
        }
      ]
    },
    {
      "cell_type": "markdown",
      "source": [
        "## Avec validation croisée et grid search"
      ],
      "metadata": {
        "id": "2nFXyj4WPC2M"
      }
    },
    {
      "cell_type": "code",
      "source": [
        "#cv and grid search\n",
        "from sklearn.model_selection import GridSearchCV\n",
        "model = DecisionTreeRegressor()\n",
        "parameter_space = {\n",
        " 'min_samples_split': range(2, 10),\n",
        " 'max_depth': (20, 30, 50)\n",
        "}\n",
        "reg = GridSearchCV(model, parameter_space, scoring =\n",
        "'neg_mean_squared_error', cv=5, n_jobs=-1)\n",
        "reg.fit(X, y)\n",
        "# Afficher les resultats\n",
        "print(\"Best score: %f using %s\" % (abs(reg.best_score_), reg.best_params_))\n",
        "print(\"Best estimator: \",reg.best_estimator_)\n",
        "# Calculate mean squared error (MSE) and mean absolute error (MAE) using cross-validation\n",
        "mse = -1 * np.mean(cross_val_score(reg.best_estimator_, X, y, cv=5, scoring='neg_mean_squared_error'))\n",
        "mae = -1 * np.mean(cross_val_score(reg.best_estimator_, X, y, cv=5, scoring='neg_mean_absolute_error'))\n",
        "\n",
        "# Calculate R2 score using cross-validation\n",
        "r2 = np.mean(cross_val_score(reg.best_estimator_, X, y, cv=5, scoring='r2'))\n",
        "\n",
        "# Print the results\n",
        "print(\"Mean cross-validation score (MAE): {:.2f}\".format(mae))\n",
        "print(\"Mean cross-validation score (MSE): {:.2f}\".format(mse))\n",
        "print(\"R2 score: {:.2f}\".format(r2))"
      ],
      "metadata": {
        "colab": {
          "base_uri": "https://localhost:8080/"
        },
        "id": "eDAwo83644vF",
        "outputId": "102d62ed-3627-4d4b-989f-7ec10348c6ba"
      },
      "execution_count": null,
      "outputs": [
        {
          "output_type": "stream",
          "name": "stdout",
          "text": [
            "Best score: 15.532494 using {'max_depth': 20, 'min_samples_split': 6}\n",
            "Best estimator:  DecisionTreeRegressor(max_depth=20, min_samples_split=6)\n",
            "Mean cross-validation score (MAE): 2.80\n",
            "Mean cross-validation score (MSE): 15.36\n",
            "R2 score: 0.59\n"
          ]
        }
      ]
    },
    {
      "cell_type": "markdown",
      "source": [
        "<table>\n",
        "  <tr>\n",
        "    <th></th>\n",
        "    <th>Holdout</th>\n",
        "    <th>CV=5</th>\n",
        "    <th>CV=5+Grid search</th>\n",
        "  </tr>\n",
        "  <tr>\n",
        "    <td>MAE</td>\n",
        "    <td>2.292</td>\n",
        "    <td>2.81</td>\n",
        "    <td>2.80</td>\n",
        "  </tr>\n",
        "  <tr>\n",
        "    <td>MSE</td>\n",
        "    <td>12.516</td>\n",
        "    <td>16.60</td>\n",
        "    <td>15.36</td>\n",
        "  </tr>\n",
        "  <tr>\n",
        "    <td>R2</td>\n",
        "    <td>0.773</td>\n",
        "    <td>0.56</td>\n",
        "    <td>0.59</td>\n",
        "  </tr>\n",
        "</table>"
      ],
      "metadata": {
        "id": "HZBXX_PFZ4Ye"
      }
    },
    {
      "cell_type": "markdown",
      "source": [
        "#SVR"
      ],
      "metadata": {
        "id": "e-vcw98wcSPx"
      }
    },
    {
      "cell_type": "code",
      "source": [
        "from sklearn.svm import SVR"
      ],
      "metadata": {
        "id": "tm8Gff0-48LI"
      },
      "execution_count": null,
      "outputs": []
    },
    {
      "cell_type": "code",
      "source": [
        "from sklearn.model_selection import cross_val_score\n",
        "model = SVR(C=1.0, epsilon=0.2)\n",
        "model.fit(X_train, y_train)\n",
        "yhat_SVR = model.predict(X_test)\n",
        "#évaluer les predictions\n",
        "score = mean_squared_error(y_test, yhat_SVR)\n",
        "MAE = mean_absolute_error(y_test, yhat_SVR)\n",
        "R2 = r2_score(y_test, yhat_SVR)\n",
        "print('MSE : %.3f' %score)\n",
        "print('MAE : %.3f' %MAE)\n",
        "print('R2 : %.3f' %R2)"
      ],
      "metadata": {
        "id": "tSECg5sV4-mG",
        "outputId": "54cba69a-bde5-4f1f-e6ca-0434f6858bbd",
        "colab": {
          "base_uri": "https://localhost:8080/"
        }
      },
      "execution_count": null,
      "outputs": [
        {
          "output_type": "stream",
          "name": "stdout",
          "text": [
            "MSE : 16.999\n",
            "MAE : 2.972\n",
            "R2 : 0.720\n"
          ]
        }
      ]
    },
    {
      "cell_type": "code",
      "source": [
        "model = SVR(C=1.0, epsilon=0.2)\n",
        "scores = cross_val_score(model, X_train, y_train, cv=5, scoring='neg_mean_squared_error')\n",
        "model.fit(X_train, y_train)\n",
        "yhat_SVR = model.predict(X_test)\n",
        "MSE = mean_squared_error(y_test, yhat_SVR)\n",
        "MAE = mean_absolute_error(y_test, yhat_SVR)\n",
        "R2 = r2_score(y_test, yhat_SVR)\n",
        "\n",
        "# print the results\n",
        "print(\"Test set MSE: {:.3f}\".format(MSE))\n",
        "print(\"Test set MAE: {:.3f}\".format(MAE))\n",
        "print(\"Test set R-squared: {:.3f}\".format(R2))"
      ],
      "metadata": {
        "colab": {
          "base_uri": "https://localhost:8080/"
        },
        "id": "hsjSYgul5CMW",
        "outputId": "7f3d6bd7-0ffc-406c-87e9-42d2ec835ae3"
      },
      "execution_count": null,
      "outputs": [
        {
          "output_type": "stream",
          "name": "stdout",
          "text": [
            "Test set MSE: 16.999\n",
            "Test set MAE: 2.972\n",
            "Test set R-squared: 0.720\n"
          ]
        }
      ]
    },
    {
      "cell_type": "code",
      "source": [
        "model = SVR()\n",
        "grid = GridSearchCV(model, {'C': [1, 10], 'epsilon': [0.1, 0.3, 0.5], 'gamma': [1e-2, 1e-3, 1e-4]}, cv=5, scoring='neg_mean_squared_error')\n",
        "grid.fit(X_train, y_train)\n",
        "best_params = grid.best_params_\n",
        "best_model = grid.best_estimator_\n",
        "yhat_SVR = best_model.predict(X_test)\n",
        "MSE = mean_squared_error(y_test, yhat_SVR)\n",
        "MAE = mean_absolute_error(y_test, yhat_SVR)\n",
        "R2 = r2_score(y_test, yhat_SVR)\n",
        "print(\"Best hyperparameters: \", best_params)\n",
        "print(\"Test set MSE: {:.3f}\".format(MSE))\n",
        "print(\"Test set MAE: {:.3f}\".format(MAE))\n",
        "print(\"Test set R-squared: {:.3f}\".format(R2))"
      ],
      "metadata": {
        "id": "z6l4JaBdsH4t"
      },
      "execution_count": null,
      "outputs": []
    },
    {
      "cell_type": "code",
      "source": [
        "# with exhaustive fs and cv\n",
        "from mlxtend.feature_selection import ExhaustiveFeatureSelector as EFS\n",
        "lr = linear_model.LinearRegression()\n",
        "efs = EFS(estimator=lr, # The Ml model\n",
        "min_features=1,\n",
        "max_features=6,\n",
        "scoring='r2', cv=5)\n",
        "efs = efs.fit(X, y)\n",
        "print('Best accuracy score: %.2f' % efs.best_score_) # best_score_ showsthe best score\n",
        "print('Best subset (corresponding names):', efs.best_feature_names_)"
      ],
      "metadata": {
        "colab": {
          "base_uri": "https://localhost:8080/"
        },
        "id": "dxwQflL25KzC",
        "outputId": "0d9b794d-76fe-4072-b58a-4079ae71578e"
      },
      "execution_count": null,
      "outputs": [
        {
          "output_type": "stream",
          "name": "stderr",
          "text": [
            "Features: 246/246"
          ]
        },
        {
          "output_type": "stream",
          "name": "stdout",
          "text": [
            "Best accuracy score: 0.61\n",
            "Best subset (corresponding names): ('0', '1', '3', '5', '7')\n"
          ]
        }
      ]
    },
    {
      "cell_type": "code",
      "source": [
        "# Show the performance of each subset of features\n",
        "efs_results = pd.DataFrame.from_dict(efs.get_metric_dict()).T\n",
        "efs_results.sort_values(by='avg_score', ascending=False, inplace=True)\n",
        "efs_results"
      ],
      "metadata": {
        "colab": {
          "base_uri": "https://localhost:8080/",
          "height": 835
        },
        "id": "q48AW0v85g3T",
        "outputId": "c9cdbda7-e4bd-4ce8-dcde-3dd993c39ced"
      },
      "execution_count": null,
      "outputs": [
        {
          "output_type": "execute_result",
          "data": {
            "text/plain": [
              "            feature_idx                                          cv_scores  \\\n",
              "176     (0, 1, 3, 5, 7)  [0.6175341709646551, 0.7177781924026383, 0.818...   \n",
              "231  (0, 1, 3, 5, 6, 7)  [0.6167586204945342, 0.7172780140016963, 0.814...   \n",
              "141        (1, 3, 5, 7)  [0.6076858560321229, 0.7155386603137489, 0.814...   \n",
              "210     (1, 3, 5, 6, 7)  [0.6069874778089761, 0.7149202841227824, 0.810...   \n",
              "175     (0, 1, 3, 5, 6)  [0.597256599347784, 0.7092216475048159, 0.8329...   \n",
              "..                  ...                                                ...   \n",
              "31               (4, 6)  [0.13085079193510007, -0.12082308231801675, 0....   \n",
              "35               (6, 7)  [-0.13790541345601248, -0.07515276590830844, 0...   \n",
              "7                  (7,)  [-0.17361402205846344, -0.06687288398589186, 0...   \n",
              "6                  (6,)  [-0.5097223525808423, -0.4043920394537186, 0.1...   \n",
              "4                  (4,)  [-0.18829687274996143, -0.30036917643154437, -...   \n",
              "\n",
              "    avg_score       feature_names  ci_bound   std_dev   std_err  \n",
              "176  0.612803     (0, 1, 3, 5, 7)  0.255004  0.198402  0.099201  \n",
              "231  0.612366  (0, 1, 3, 5, 6, 7)  0.252221  0.196237  0.098118  \n",
              "141  0.607405        (1, 3, 5, 7)   0.25723  0.200134  0.100067  \n",
              "210  0.606864     (1, 3, 5, 6, 7)  0.254587  0.198077  0.099039  \n",
              "175  0.604514     (0, 1, 3, 5, 6)   0.27858  0.216744  0.108372  \n",
              "..        ...                 ...       ...       ...       ...  \n",
              "31  -0.299652              (4, 6)  0.774024  0.602217  0.301109  \n",
              "35  -0.349802              (6, 7)  0.937193  0.729168  0.364584  \n",
              "7   -0.385243                (7,)   0.97395  0.757766  0.378883  \n",
              "6   -0.573681                (6,)   0.99572  0.774704  0.387352  \n",
              "4   -0.644685                (4,)  1.116668  0.868805  0.434403  \n",
              "\n",
              "[246 rows x 7 columns]"
            ],
            "text/html": [
              "\n",
              "  <div id=\"df-b5e0f3f5-ba93-485e-af16-0149232dfebd\">\n",
              "    <div class=\"colab-df-container\">\n",
              "      <div>\n",
              "<style scoped>\n",
              "    .dataframe tbody tr th:only-of-type {\n",
              "        vertical-align: middle;\n",
              "    }\n",
              "\n",
              "    .dataframe tbody tr th {\n",
              "        vertical-align: top;\n",
              "    }\n",
              "\n",
              "    .dataframe thead th {\n",
              "        text-align: right;\n",
              "    }\n",
              "</style>\n",
              "<table border=\"1\" class=\"dataframe\">\n",
              "  <thead>\n",
              "    <tr style=\"text-align: right;\">\n",
              "      <th></th>\n",
              "      <th>feature_idx</th>\n",
              "      <th>cv_scores</th>\n",
              "      <th>avg_score</th>\n",
              "      <th>feature_names</th>\n",
              "      <th>ci_bound</th>\n",
              "      <th>std_dev</th>\n",
              "      <th>std_err</th>\n",
              "    </tr>\n",
              "  </thead>\n",
              "  <tbody>\n",
              "    <tr>\n",
              "      <th>176</th>\n",
              "      <td>(0, 1, 3, 5, 7)</td>\n",
              "      <td>[0.6175341709646551, 0.7177781924026383, 0.818...</td>\n",
              "      <td>0.612803</td>\n",
              "      <td>(0, 1, 3, 5, 7)</td>\n",
              "      <td>0.255004</td>\n",
              "      <td>0.198402</td>\n",
              "      <td>0.099201</td>\n",
              "    </tr>\n",
              "    <tr>\n",
              "      <th>231</th>\n",
              "      <td>(0, 1, 3, 5, 6, 7)</td>\n",
              "      <td>[0.6167586204945342, 0.7172780140016963, 0.814...</td>\n",
              "      <td>0.612366</td>\n",
              "      <td>(0, 1, 3, 5, 6, 7)</td>\n",
              "      <td>0.252221</td>\n",
              "      <td>0.196237</td>\n",
              "      <td>0.098118</td>\n",
              "    </tr>\n",
              "    <tr>\n",
              "      <th>141</th>\n",
              "      <td>(1, 3, 5, 7)</td>\n",
              "      <td>[0.6076858560321229, 0.7155386603137489, 0.814...</td>\n",
              "      <td>0.607405</td>\n",
              "      <td>(1, 3, 5, 7)</td>\n",
              "      <td>0.25723</td>\n",
              "      <td>0.200134</td>\n",
              "      <td>0.100067</td>\n",
              "    </tr>\n",
              "    <tr>\n",
              "      <th>210</th>\n",
              "      <td>(1, 3, 5, 6, 7)</td>\n",
              "      <td>[0.6069874778089761, 0.7149202841227824, 0.810...</td>\n",
              "      <td>0.606864</td>\n",
              "      <td>(1, 3, 5, 6, 7)</td>\n",
              "      <td>0.254587</td>\n",
              "      <td>0.198077</td>\n",
              "      <td>0.099039</td>\n",
              "    </tr>\n",
              "    <tr>\n",
              "      <th>175</th>\n",
              "      <td>(0, 1, 3, 5, 6)</td>\n",
              "      <td>[0.597256599347784, 0.7092216475048159, 0.8329...</td>\n",
              "      <td>0.604514</td>\n",
              "      <td>(0, 1, 3, 5, 6)</td>\n",
              "      <td>0.27858</td>\n",
              "      <td>0.216744</td>\n",
              "      <td>0.108372</td>\n",
              "    </tr>\n",
              "    <tr>\n",
              "      <th>...</th>\n",
              "      <td>...</td>\n",
              "      <td>...</td>\n",
              "      <td>...</td>\n",
              "      <td>...</td>\n",
              "      <td>...</td>\n",
              "      <td>...</td>\n",
              "      <td>...</td>\n",
              "    </tr>\n",
              "    <tr>\n",
              "      <th>31</th>\n",
              "      <td>(4, 6)</td>\n",
              "      <td>[0.13085079193510007, -0.12082308231801675, 0....</td>\n",
              "      <td>-0.299652</td>\n",
              "      <td>(4, 6)</td>\n",
              "      <td>0.774024</td>\n",
              "      <td>0.602217</td>\n",
              "      <td>0.301109</td>\n",
              "    </tr>\n",
              "    <tr>\n",
              "      <th>35</th>\n",
              "      <td>(6, 7)</td>\n",
              "      <td>[-0.13790541345601248, -0.07515276590830844, 0...</td>\n",
              "      <td>-0.349802</td>\n",
              "      <td>(6, 7)</td>\n",
              "      <td>0.937193</td>\n",
              "      <td>0.729168</td>\n",
              "      <td>0.364584</td>\n",
              "    </tr>\n",
              "    <tr>\n",
              "      <th>7</th>\n",
              "      <td>(7,)</td>\n",
              "      <td>[-0.17361402205846344, -0.06687288398589186, 0...</td>\n",
              "      <td>-0.385243</td>\n",
              "      <td>(7,)</td>\n",
              "      <td>0.97395</td>\n",
              "      <td>0.757766</td>\n",
              "      <td>0.378883</td>\n",
              "    </tr>\n",
              "    <tr>\n",
              "      <th>6</th>\n",
              "      <td>(6,)</td>\n",
              "      <td>[-0.5097223525808423, -0.4043920394537186, 0.1...</td>\n",
              "      <td>-0.573681</td>\n",
              "      <td>(6,)</td>\n",
              "      <td>0.99572</td>\n",
              "      <td>0.774704</td>\n",
              "      <td>0.387352</td>\n",
              "    </tr>\n",
              "    <tr>\n",
              "      <th>4</th>\n",
              "      <td>(4,)</td>\n",
              "      <td>[-0.18829687274996143, -0.30036917643154437, -...</td>\n",
              "      <td>-0.644685</td>\n",
              "      <td>(4,)</td>\n",
              "      <td>1.116668</td>\n",
              "      <td>0.868805</td>\n",
              "      <td>0.434403</td>\n",
              "    </tr>\n",
              "  </tbody>\n",
              "</table>\n",
              "<p>246 rows × 7 columns</p>\n",
              "</div>\n",
              "      <button class=\"colab-df-convert\" onclick=\"convertToInteractive('df-b5e0f3f5-ba93-485e-af16-0149232dfebd')\"\n",
              "              title=\"Convert this dataframe to an interactive table.\"\n",
              "              style=\"display:none;\">\n",
              "        \n",
              "  <svg xmlns=\"http://www.w3.org/2000/svg\" height=\"24px\"viewBox=\"0 0 24 24\"\n",
              "       width=\"24px\">\n",
              "    <path d=\"M0 0h24v24H0V0z\" fill=\"none\"/>\n",
              "    <path d=\"M18.56 5.44l.94 2.06.94-2.06 2.06-.94-2.06-.94-.94-2.06-.94 2.06-2.06.94zm-11 1L8.5 8.5l.94-2.06 2.06-.94-2.06-.94L8.5 2.5l-.94 2.06-2.06.94zm10 10l.94 2.06.94-2.06 2.06-.94-2.06-.94-.94-2.06-.94 2.06-2.06.94z\"/><path d=\"M17.41 7.96l-1.37-1.37c-.4-.4-.92-.59-1.43-.59-.52 0-1.04.2-1.43.59L10.3 9.45l-7.72 7.72c-.78.78-.78 2.05 0 2.83L4 21.41c.39.39.9.59 1.41.59.51 0 1.02-.2 1.41-.59l7.78-7.78 2.81-2.81c.8-.78.8-2.07 0-2.86zM5.41 20L4 18.59l7.72-7.72 1.47 1.35L5.41 20z\"/>\n",
              "  </svg>\n",
              "      </button>\n",
              "      \n",
              "  <style>\n",
              "    .colab-df-container {\n",
              "      display:flex;\n",
              "      flex-wrap:wrap;\n",
              "      gap: 12px;\n",
              "    }\n",
              "\n",
              "    .colab-df-convert {\n",
              "      background-color: #E8F0FE;\n",
              "      border: none;\n",
              "      border-radius: 50%;\n",
              "      cursor: pointer;\n",
              "      display: none;\n",
              "      fill: #1967D2;\n",
              "      height: 32px;\n",
              "      padding: 0 0 0 0;\n",
              "      width: 32px;\n",
              "    }\n",
              "\n",
              "    .colab-df-convert:hover {\n",
              "      background-color: #E2EBFA;\n",
              "      box-shadow: 0px 1px 2px rgba(60, 64, 67, 0.3), 0px 1px 3px 1px rgba(60, 64, 67, 0.15);\n",
              "      fill: #174EA6;\n",
              "    }\n",
              "\n",
              "    [theme=dark] .colab-df-convert {\n",
              "      background-color: #3B4455;\n",
              "      fill: #D2E3FC;\n",
              "    }\n",
              "\n",
              "    [theme=dark] .colab-df-convert:hover {\n",
              "      background-color: #434B5C;\n",
              "      box-shadow: 0px 1px 3px 1px rgba(0, 0, 0, 0.15);\n",
              "      filter: drop-shadow(0px 1px 2px rgba(0, 0, 0, 0.3));\n",
              "      fill: #FFFFFF;\n",
              "    }\n",
              "  </style>\n",
              "\n",
              "      <script>\n",
              "        const buttonEl =\n",
              "          document.querySelector('#df-b5e0f3f5-ba93-485e-af16-0149232dfebd button.colab-df-convert');\n",
              "        buttonEl.style.display =\n",
              "          google.colab.kernel.accessAllowed ? 'block' : 'none';\n",
              "\n",
              "        async function convertToInteractive(key) {\n",
              "          const element = document.querySelector('#df-b5e0f3f5-ba93-485e-af16-0149232dfebd');\n",
              "          const dataTable =\n",
              "            await google.colab.kernel.invokeFunction('convertToInteractive',\n",
              "                                                     [key], {});\n",
              "          if (!dataTable) return;\n",
              "\n",
              "          const docLinkHtml = 'Like what you see? Visit the ' +\n",
              "            '<a target=\"_blank\" href=https://colab.research.google.com/notebooks/data_table.ipynb>data table notebook</a>'\n",
              "            + ' to learn more about interactive tables.';\n",
              "          element.innerHTML = '';\n",
              "          dataTable['output_type'] = 'display_data';\n",
              "          await google.colab.output.renderOutput(dataTable, element);\n",
              "          const docLink = document.createElement('div');\n",
              "          docLink.innerHTML = docLinkHtml;\n",
              "          element.appendChild(docLink);\n",
              "        }\n",
              "      </script>\n",
              "    </div>\n",
              "  </div>\n",
              "  "
            ]
          },
          "metadata": {},
          "execution_count": 185
        }
      ]
    },
    {
      "cell_type": "code",
      "source": [
        "#Transformer le dataset pour garder seulement les attributs sélectionnés\n",
        "X_train_efs = efs.transform(X_train)\n",
        "X_test_efs = efs.transform(X_test)"
      ],
      "metadata": {
        "id": "VGwxMOXE5kKc"
      },
      "execution_count": null,
      "outputs": []
    },
    {
      "cell_type": "code",
      "source": [
        "# Entrainer le modèle de régression sur les données d'entrainements réduites\n",
        "model_SVR = SVR()\n",
        "model_SVR.fit(X_train_efs, y_train)\n",
        "#Prédiction sur les données de test\n",
        "y_pred = model_SVR.predict(X_test_efs)\n",
        "#évaluer les predictions\n",
        "score =r2_score(y_test, y_pred)\n",
        "print('R2 : %.3f' %score)"
      ],
      "metadata": {
        "colab": {
          "base_uri": "https://localhost:8080/"
        },
        "id": "V2i_wLfh53Q-",
        "outputId": "5ba7ce53-91f9-4972-8cc5-0dd7540afbc0"
      },
      "execution_count": null,
      "outputs": [
        {
          "output_type": "stream",
          "name": "stdout",
          "text": [
            "R2 : 0.690\n"
          ]
        }
      ]
    },
    {
      "cell_type": "code",
      "source": [
        "from sklearn.pipeline import Pipeline\n",
        "clf = Pipeline([\n",
        " ('feature_selection', EFS(linear_model.LinearRegression(), scoring='r2',\n",
        "max_features=6, cv=5)),\n",
        " ('classification', SVR())\n",
        "])\n",
        "clf.fit(X_train, y_train)\n",
        "clf.score(X_test, y_test)"
      ],
      "metadata": {
        "colab": {
          "base_uri": "https://localhost:8080/"
        },
        "id": "EfUva90z57Xe",
        "outputId": "c42dc960-3121-40b6-c3b6-f09a432f23d2"
      },
      "execution_count": null,
      "outputs": [
        {
          "output_type": "stream",
          "name": "stderr",
          "text": [
            "Features: 246/246"
          ]
        },
        {
          "output_type": "execute_result",
          "data": {
            "text/plain": [
              "0.6897728641197916"
            ]
          },
          "metadata": {},
          "execution_count": 188
        }
      ]
    },
    {
      "cell_type": "markdown",
      "source": [
        "# MLP Regressor"
      ],
      "metadata": {
        "id": "QnH-aSoSdGVf"
      }
    },
    {
      "cell_type": "code",
      "source": [
        "from sklearn.neural_network import MLPRegressor"
      ],
      "metadata": {
        "id": "DJHEPVqQ6Akc"
      },
      "execution_count": null,
      "outputs": []
    },
    {
      "cell_type": "code",
      "source": [
        "model = MLPRegressor(hidden_layer_sizes={100, 200,10}, activation='relu',\n",
        "solver='adam', max_iter= 5000)\n",
        "model.fit(X_train, y_train)\n",
        "yhat_MLP = model.predict(X_test)\n",
        "#évaluer les predictions\n",
        "MSE = mean_squared_error(y_test, yhat_MLP)\n",
        "MAE = mean_absolute_error(y_test, yhat_MLP)\n",
        "r2 = r2_score(y_test, yhat_MLP)\n",
        "print('MAE : %.3f' %MAE)\n",
        "print('MSE : %.3f' %MSE)\n",
        "print('R2 : %.3f' %r2)"
      ],
      "metadata": {
        "colab": {
          "base_uri": "https://localhost:8080/"
        },
        "id": "VQjPbTga6ECd",
        "outputId": "243fa0b9-8050-48c4-df06-2da3d4642f2b"
      },
      "execution_count": null,
      "outputs": [
        {
          "output_type": "stream",
          "name": "stdout",
          "text": [
            "MAE : 2.396\n",
            "MSE : 9.522\n",
            "R2 : 0.827\n"
          ]
        }
      ]
    },
    {
      "cell_type": "markdown",
      "source": [
        "### Cross validation"
      ],
      "metadata": {
        "id": "Eksi2rlpe3Vl"
      }
    },
    {
      "cell_type": "code",
      "source": [
        "from sklearn.neural_network import MLPRegressor\n",
        "from sklearn.model_selection import cross_val_score\n",
        "from sklearn.metrics import mean_squared_error, mean_absolute_error, r2_score\n",
        "import numpy as np\n",
        "\n",
        "model = MLPRegressor(hidden_layer_sizes={100, 200, 10}, activation='relu', solver='adam', max_iter=5000)\n",
        "\n",
        "# Cross-validation\n",
        "mse_scores = -1 * cross_val_score(model, X, y, cv=5, scoring='neg_mean_squared_error')\n",
        "mae_scores = -1 * cross_val_score(model, X, y, cv=5, scoring='neg_mean_absolute_error')\n",
        "r2_scores = cross_val_score(model, X, y, cv=5, scoring='r2')\n",
        "\n",
        "# Train the model on the full dataset\n",
        "model.fit(X, y)\n",
        "\n",
        "# Make predictions\n",
        "yhat_MLP = model.predict(X_test)\n",
        "\n",
        "# Evaluate the predictions\n",
        "mse = mean_squared_error(y_test, yhat_MLP)\n",
        "mae = mean_absolute_error(y_test, yhat_MLP)\n",
        "r2 = r2_score(y_test, yhat_MLP)\n",
        "\n",
        "# Print results\n",
        "print('Mean cross-validation score (MSE): %.3f' % np.mean(mse_scores))\n",
        "print('Mean cross-validation score (MAE): %.3f' % np.mean(mae_scores))\n",
        "print('Mean cross-validation score (R2): %.3f' % np.mean(r2_scores))\n",
        "print('MAE: %.3f' % mae)\n",
        "print('MSE: %.3f' % mse)\n",
        "print('R2: %.3f' % r2)\n"
      ],
      "metadata": {
        "colab": {
          "base_uri": "https://localhost:8080/"
        },
        "id": "LYmKhaEtfF04",
        "outputId": "55c94895-da34-4b2e-90a7-a4f8d8a902c0"
      },
      "execution_count": null,
      "outputs": [
        {
          "output_type": "stream",
          "name": "stdout",
          "text": [
            "Mean cross-validation score (MSE): 15.018\n",
            "Mean cross-validation score (MAE): 5.292\n",
            "Mean cross-validation score (R2): 0.617\n",
            "MAE: 2.610\n",
            "MSE: 11.042\n",
            "R2: 0.799\n"
          ]
        }
      ]
    },
    {
      "cell_type": "markdown",
      "source": [
        "### Cross val+ drid search"
      ],
      "metadata": {
        "id": "P7yDKil7kw1g"
      }
    },
    {
      "cell_type": "code",
      "source": [
        "from sklearn.neural_network import MLPRegressor\n",
        "from sklearn.model_selection import GridSearchCV\n",
        "from sklearn.metrics import mean_squared_error, mean_absolute_error, r2_score\n",
        "import numpy as np\n",
        "\n",
        "# Define the MLPRegressor model\n",
        "model = MLPRegressor(activation='relu', solver='adam', max_iter=5000)\n",
        "\n",
        "# Define the parameter space for grid search\n",
        "parameter_space = {\n",
        "    'hidden_layer_sizes': [(100,), (200,), (100, 200), (200, 100), (100, 200, 10)],\n",
        "    'alpha': [0.0001, 0.001, 0.01],\n",
        "}\n",
        "\n",
        "# Perform grid search with cross-validation\n",
        "reg = GridSearchCV(model, parameter_space, scoring='neg_mean_squared_error', cv=5, n_jobs=-1)\n",
        "reg.fit(X, y)\n",
        "\n",
        "# Train the best model on the full dataset\n",
        "model = reg.best_estimator_\n",
        "model.fit(X, y)\n",
        "\n",
        "# Make predictions on the test set\n",
        "yhat_MLP = model.predict(X_test)\n",
        "\n",
        "# Calculate scores\n",
        "mse_scores = -1 * cross_val_score(model, X, y, cv=5, scoring='neg_mean_squared_error')\n",
        "mae_scores = -1 * cross_val_score(model, X, y, cv=5, scoring='neg_mean_absolute_error')\n",
        "r2_scores = cross_val_score(model, X, y, cv=5, scoring='r2')\n",
        "mse = mean_squared_error(y_test, yhat_MLP)\n",
        "mae = mean_absolute_error(y_test, yhat_MLP)\n",
        "r2 = r2_score(y_test, yhat_MLP)\n",
        "\n",
        "# Print out the results\n",
        "print(\"Best score: %f using %s\" % (abs(reg.best_score_), reg.best_params_))\n",
        "print(\"MSE (test set): %.3f\" % mse)\n",
        "print(\"MAE (test set): %.3f\" % mae)\n",
        "print(\"R2 (test set): %.3f\" % r2)\n",
        "print(\"Mean cross-validation score (MAE): %.3f\" % np.mean(mae_scores))\n",
        "print(\"Mean cross-validation score (MSE): %.3f\" % np.mean(mse_scores))\n",
        "print(\"Mean cross-validation score (R2): %.3f\" % np.mean(r2_scores))\n"
      ],
      "metadata": {
        "colab": {
          "base_uri": "https://localhost:8080/"
        },
        "id": "oUAorxRHiHhj",
        "outputId": "6dc4bf18-7f89-478a-9c03-36541ff0822b"
      },
      "execution_count": null,
      "outputs": [
        {
          "output_type": "stream",
          "name": "stdout",
          "text": [
            "Best score: 14.229355 using {'alpha': 0.0001, 'hidden_layer_sizes': (200,)}\n",
            "MSE (test set): 8.700\n",
            "MAE (test set): 2.304\n",
            "R2 (test set): 0.842\n",
            "Mean cross-validation score (MAE): 2.845\n",
            "Mean cross-validation score (MSE): 15.873\n",
            "Mean cross-validation score (R2): 0.624\n"
          ]
        }
      ]
    },
    {
      "cell_type": "markdown",
      "source": [
        "<table>\n",
        "  <tr>\n",
        "    <th></th>\n",
        "    <th>Holdout</th>\n",
        "    <th>CV=5</th>\n",
        "    <th>CV=5+Grid search</th>\n",
        "  </tr>\n",
        "  <tr>\n",
        "    <td>MAE</td>\n",
        "    <td>2.396</td>\n",
        "    <td>2.610</td>\n",
        "    <td>2.845</td>\n",
        "  </tr>\n",
        "  <tr>\n",
        "    <td>MSE</td>\n",
        "    <td>9.522</td>\n",
        "    <td>11.042</td>\n",
        "    <td>15.873</td>\n",
        "  </tr>\n",
        "  <tr>\n",
        "    <td>R2</td>\n",
        "    <td>0.827</td>\n",
        "    <td>0.799</td>\n",
        "    <td>0.624</td>\n",
        "  </tr>\n",
        "</table>"
      ],
      "metadata": {
        "id": "jjjejVOFicWP"
      }
    },
    {
      "cell_type": "code",
      "source": [
        "from sklearn.pipeline import make_pipeline\n",
        "from sklearn.preprocessing import StandardScaler, MinMaxScaler"
      ],
      "metadata": {
        "id": "TlXzf6686JNB"
      },
      "execution_count": null,
      "outputs": []
    },
    {
      "cell_type": "code",
      "source": [
        "# example of a standarization\n",
        "# define min max scaler\n",
        "scaler = StandardScaler()\n",
        "# transform data\n",
        "scaled = scaler.fit_transform(X)\n",
        "scaled = pd.DataFrame(scaled)\n",
        "scaled.describe()"
      ],
      "metadata": {
        "colab": {
          "base_uri": "https://localhost:8080/",
          "height": 434
        },
        "id": "1iNZWY2x6MbO",
        "outputId": "54f06f7b-80bf-4929-ae6f-479435d89e3f"
      },
      "execution_count": null,
      "outputs": [
        {
          "output_type": "execute_result",
          "data": {
            "text/plain": [
              "                  0             1             2             3             4  \\\n",
              "count  3.920000e+02  3.920000e+02  3.920000e+02  3.920000e+02  3.920000e+02   \n",
              "mean  -1.087565e-16 -7.250436e-17 -1.812609e-16 -1.812609e-17  4.350262e-16   \n",
              "std    1.001278e+00  1.001278e+00  1.001278e+00  1.001278e+00  1.001278e+00   \n",
              "min   -1.451004e+00 -1.209563e+00 -1.520975e+00 -1.608575e+00 -2.736983e+00   \n",
              "25%   -8.640136e-01 -8.555316e-01 -7.665929e-01 -8.868535e-01 -6.410551e-01   \n",
              "50%   -8.640136e-01 -4.153842e-01 -2.853488e-01 -2.052109e-01 -1.499869e-02   \n",
              "75%    1.483947e+00  7.782764e-01  5.600800e-01  7.510927e-01  5.384714e-01   \n",
              "max    1.483947e+00  2.493416e+00  3.265452e+00  2.549061e+00  3.360262e+00   \n",
              "\n",
              "                  5             6             7  \n",
              "count  3.920000e+02  3.920000e+02  3.920000e+02  \n",
              "mean  -1.160070e-15  1.812609e-17  4.531523e-17  \n",
              "std    1.001278e+00  1.001278e+00  1.001278e+00  \n",
              "min   -1.625315e+00 -5.023905e-01 -1.290994e+00  \n",
              "25%   -8.098841e-01 -5.023905e-01 -1.290994e+00  \n",
              "50%    5.547151e-03 -5.023905e-01  7.745967e-01  \n",
              "75%    8.209784e-01 -5.023905e-01  7.745967e-01  \n",
              "max    1.636410e+00  1.990484e+00  7.745967e-01  "
            ],
            "text/html": [
              "\n",
              "  <div id=\"df-bbfe214f-f059-48c6-8d1c-7db9502e90eb\">\n",
              "    <div class=\"colab-df-container\">\n",
              "      <div>\n",
              "<style scoped>\n",
              "    .dataframe tbody tr th:only-of-type {\n",
              "        vertical-align: middle;\n",
              "    }\n",
              "\n",
              "    .dataframe tbody tr th {\n",
              "        vertical-align: top;\n",
              "    }\n",
              "\n",
              "    .dataframe thead th {\n",
              "        text-align: right;\n",
              "    }\n",
              "</style>\n",
              "<table border=\"1\" class=\"dataframe\">\n",
              "  <thead>\n",
              "    <tr style=\"text-align: right;\">\n",
              "      <th></th>\n",
              "      <th>0</th>\n",
              "      <th>1</th>\n",
              "      <th>2</th>\n",
              "      <th>3</th>\n",
              "      <th>4</th>\n",
              "      <th>5</th>\n",
              "      <th>6</th>\n",
              "      <th>7</th>\n",
              "    </tr>\n",
              "  </thead>\n",
              "  <tbody>\n",
              "    <tr>\n",
              "      <th>count</th>\n",
              "      <td>3.920000e+02</td>\n",
              "      <td>3.920000e+02</td>\n",
              "      <td>3.920000e+02</td>\n",
              "      <td>3.920000e+02</td>\n",
              "      <td>3.920000e+02</td>\n",
              "      <td>3.920000e+02</td>\n",
              "      <td>3.920000e+02</td>\n",
              "      <td>3.920000e+02</td>\n",
              "    </tr>\n",
              "    <tr>\n",
              "      <th>mean</th>\n",
              "      <td>-1.087565e-16</td>\n",
              "      <td>-7.250436e-17</td>\n",
              "      <td>-1.812609e-16</td>\n",
              "      <td>-1.812609e-17</td>\n",
              "      <td>4.350262e-16</td>\n",
              "      <td>-1.160070e-15</td>\n",
              "      <td>1.812609e-17</td>\n",
              "      <td>4.531523e-17</td>\n",
              "    </tr>\n",
              "    <tr>\n",
              "      <th>std</th>\n",
              "      <td>1.001278e+00</td>\n",
              "      <td>1.001278e+00</td>\n",
              "      <td>1.001278e+00</td>\n",
              "      <td>1.001278e+00</td>\n",
              "      <td>1.001278e+00</td>\n",
              "      <td>1.001278e+00</td>\n",
              "      <td>1.001278e+00</td>\n",
              "      <td>1.001278e+00</td>\n",
              "    </tr>\n",
              "    <tr>\n",
              "      <th>min</th>\n",
              "      <td>-1.451004e+00</td>\n",
              "      <td>-1.209563e+00</td>\n",
              "      <td>-1.520975e+00</td>\n",
              "      <td>-1.608575e+00</td>\n",
              "      <td>-2.736983e+00</td>\n",
              "      <td>-1.625315e+00</td>\n",
              "      <td>-5.023905e-01</td>\n",
              "      <td>-1.290994e+00</td>\n",
              "    </tr>\n",
              "    <tr>\n",
              "      <th>25%</th>\n",
              "      <td>-8.640136e-01</td>\n",
              "      <td>-8.555316e-01</td>\n",
              "      <td>-7.665929e-01</td>\n",
              "      <td>-8.868535e-01</td>\n",
              "      <td>-6.410551e-01</td>\n",
              "      <td>-8.098841e-01</td>\n",
              "      <td>-5.023905e-01</td>\n",
              "      <td>-1.290994e+00</td>\n",
              "    </tr>\n",
              "    <tr>\n",
              "      <th>50%</th>\n",
              "      <td>-8.640136e-01</td>\n",
              "      <td>-4.153842e-01</td>\n",
              "      <td>-2.853488e-01</td>\n",
              "      <td>-2.052109e-01</td>\n",
              "      <td>-1.499869e-02</td>\n",
              "      <td>5.547151e-03</td>\n",
              "      <td>-5.023905e-01</td>\n",
              "      <td>7.745967e-01</td>\n",
              "    </tr>\n",
              "    <tr>\n",
              "      <th>75%</th>\n",
              "      <td>1.483947e+00</td>\n",
              "      <td>7.782764e-01</td>\n",
              "      <td>5.600800e-01</td>\n",
              "      <td>7.510927e-01</td>\n",
              "      <td>5.384714e-01</td>\n",
              "      <td>8.209784e-01</td>\n",
              "      <td>-5.023905e-01</td>\n",
              "      <td>7.745967e-01</td>\n",
              "    </tr>\n",
              "    <tr>\n",
              "      <th>max</th>\n",
              "      <td>1.483947e+00</td>\n",
              "      <td>2.493416e+00</td>\n",
              "      <td>3.265452e+00</td>\n",
              "      <td>2.549061e+00</td>\n",
              "      <td>3.360262e+00</td>\n",
              "      <td>1.636410e+00</td>\n",
              "      <td>1.990484e+00</td>\n",
              "      <td>7.745967e-01</td>\n",
              "    </tr>\n",
              "  </tbody>\n",
              "</table>\n",
              "</div>\n",
              "      <button class=\"colab-df-convert\" onclick=\"convertToInteractive('df-bbfe214f-f059-48c6-8d1c-7db9502e90eb')\"\n",
              "              title=\"Convert this dataframe to an interactive table.\"\n",
              "              style=\"display:none;\">\n",
              "        \n",
              "  <svg xmlns=\"http://www.w3.org/2000/svg\" height=\"24px\"viewBox=\"0 0 24 24\"\n",
              "       width=\"24px\">\n",
              "    <path d=\"M0 0h24v24H0V0z\" fill=\"none\"/>\n",
              "    <path d=\"M18.56 5.44l.94 2.06.94-2.06 2.06-.94-2.06-.94-.94-2.06-.94 2.06-2.06.94zm-11 1L8.5 8.5l.94-2.06 2.06-.94-2.06-.94L8.5 2.5l-.94 2.06-2.06.94zm10 10l.94 2.06.94-2.06 2.06-.94-2.06-.94-.94-2.06-.94 2.06-2.06.94z\"/><path d=\"M17.41 7.96l-1.37-1.37c-.4-.4-.92-.59-1.43-.59-.52 0-1.04.2-1.43.59L10.3 9.45l-7.72 7.72c-.78.78-.78 2.05 0 2.83L4 21.41c.39.39.9.59 1.41.59.51 0 1.02-.2 1.41-.59l7.78-7.78 2.81-2.81c.8-.78.8-2.07 0-2.86zM5.41 20L4 18.59l7.72-7.72 1.47 1.35L5.41 20z\"/>\n",
              "  </svg>\n",
              "      </button>\n",
              "      \n",
              "  <style>\n",
              "    .colab-df-container {\n",
              "      display:flex;\n",
              "      flex-wrap:wrap;\n",
              "      gap: 12px;\n",
              "    }\n",
              "\n",
              "    .colab-df-convert {\n",
              "      background-color: #E8F0FE;\n",
              "      border: none;\n",
              "      border-radius: 50%;\n",
              "      cursor: pointer;\n",
              "      display: none;\n",
              "      fill: #1967D2;\n",
              "      height: 32px;\n",
              "      padding: 0 0 0 0;\n",
              "      width: 32px;\n",
              "    }\n",
              "\n",
              "    .colab-df-convert:hover {\n",
              "      background-color: #E2EBFA;\n",
              "      box-shadow: 0px 1px 2px rgba(60, 64, 67, 0.3), 0px 1px 3px 1px rgba(60, 64, 67, 0.15);\n",
              "      fill: #174EA6;\n",
              "    }\n",
              "\n",
              "    [theme=dark] .colab-df-convert {\n",
              "      background-color: #3B4455;\n",
              "      fill: #D2E3FC;\n",
              "    }\n",
              "\n",
              "    [theme=dark] .colab-df-convert:hover {\n",
              "      background-color: #434B5C;\n",
              "      box-shadow: 0px 1px 3px 1px rgba(0, 0, 0, 0.15);\n",
              "      filter: drop-shadow(0px 1px 2px rgba(0, 0, 0, 0.3));\n",
              "      fill: #FFFFFF;\n",
              "    }\n",
              "  </style>\n",
              "\n",
              "      <script>\n",
              "        const buttonEl =\n",
              "          document.querySelector('#df-bbfe214f-f059-48c6-8d1c-7db9502e90eb button.colab-df-convert');\n",
              "        buttonEl.style.display =\n",
              "          google.colab.kernel.accessAllowed ? 'block' : 'none';\n",
              "\n",
              "        async function convertToInteractive(key) {\n",
              "          const element = document.querySelector('#df-bbfe214f-f059-48c6-8d1c-7db9502e90eb');\n",
              "          const dataTable =\n",
              "            await google.colab.kernel.invokeFunction('convertToInteractive',\n",
              "                                                     [key], {});\n",
              "          if (!dataTable) return;\n",
              "\n",
              "          const docLinkHtml = 'Like what you see? Visit the ' +\n",
              "            '<a target=\"_blank\" href=https://colab.research.google.com/notebooks/data_table.ipynb>data table notebook</a>'\n",
              "            + ' to learn more about interactive tables.';\n",
              "          element.innerHTML = '';\n",
              "          dataTable['output_type'] = 'display_data';\n",
              "          await google.colab.output.renderOutput(dataTable, element);\n",
              "          const docLink = document.createElement('div');\n",
              "          docLink.innerHTML = docLinkHtml;\n",
              "          element.appendChild(docLink);\n",
              "        }\n",
              "      </script>\n",
              "    </div>\n",
              "  </div>\n",
              "  "
            ]
          },
          "metadata": {},
          "execution_count": 192
        }
      ]
    },
    {
      "cell_type": "code",
      "source": [
        "model = MLPRegressor(hidden_layer_sizes={100, 200,10}, activation='relu',\n",
        "solver='adam', max_iter= 5000)\n",
        "model = make_pipeline(StandardScaler(), model)\n",
        "model.fit(X_train, y_train)\n",
        "yhat = model.predict(X_test)\n",
        "#évaluer les predictions\n",
        "score = mean_squared_error(y_test, yhat)\n",
        "print('MSE : %.3f' %score)"
      ],
      "metadata": {
        "colab": {
          "base_uri": "https://localhost:8080/"
        },
        "id": "-0X19t1s6Rgl",
        "outputId": "eed811f0-14e3-493d-f977-68ec35e27c64"
      },
      "execution_count": null,
      "outputs": [
        {
          "output_type": "stream",
          "name": "stdout",
          "text": [
            "MSE : 9.133\n"
          ]
        }
      ]
    },
    {
      "cell_type": "code",
      "source": [
        "# example of a normalization\n",
        "# define min max scaler\n",
        "scaler = MinMaxScaler()\n",
        "# transform data\n",
        "scaled = scaler.fit_transform(X)\n",
        "scaled = pd.DataFrame(scaled)\n",
        "scaled.describe()"
      ],
      "metadata": {
        "colab": {
          "base_uri": "https://localhost:8080/",
          "height": 364
        },
        "id": "cIxDJX3w6UlA",
        "outputId": "233fedff-197d-4caf-dd3f-598159383e04"
      },
      "execution_count": null,
      "outputs": [
        {
          "output_type": "execute_result",
          "data": {
            "text/plain": [
              "                0           1           2           3           4           5  \\\n",
              "count  392.000000  392.000000  392.000000  392.000000  392.000000  392.000000   \n",
              "mean     0.494388    0.326646    0.317768    0.386897    0.448888    0.498299   \n",
              "std      0.341157    0.270398    0.209191    0.240829    0.164218    0.306978   \n",
              "min      0.000000    0.000000    0.000000    0.000000    0.000000    0.000000   \n",
              "25%      0.200000    0.095607    0.157609    0.173589    0.343750    0.250000   \n",
              "50%      0.200000    0.214470    0.258152    0.337539    0.446429    0.500000   \n",
              "75%      1.000000    0.536822    0.434783    0.567550    0.537202    0.750000   \n",
              "max      1.000000    1.000000    1.000000    1.000000    1.000000    1.000000   \n",
              "\n",
              "                6           7  \n",
              "count  392.000000  392.000000  \n",
              "mean     0.201531    0.625000  \n",
              "std      0.401656    0.484742  \n",
              "min      0.000000    0.000000  \n",
              "25%      0.000000    0.000000  \n",
              "50%      0.000000    1.000000  \n",
              "75%      0.000000    1.000000  \n",
              "max      1.000000    1.000000  "
            ],
            "text/html": [
              "\n",
              "  <div id=\"df-e5d77c78-7527-4dd2-8816-879c66a78433\">\n",
              "    <div class=\"colab-df-container\">\n",
              "      <div>\n",
              "<style scoped>\n",
              "    .dataframe tbody tr th:only-of-type {\n",
              "        vertical-align: middle;\n",
              "    }\n",
              "\n",
              "    .dataframe tbody tr th {\n",
              "        vertical-align: top;\n",
              "    }\n",
              "\n",
              "    .dataframe thead th {\n",
              "        text-align: right;\n",
              "    }\n",
              "</style>\n",
              "<table border=\"1\" class=\"dataframe\">\n",
              "  <thead>\n",
              "    <tr style=\"text-align: right;\">\n",
              "      <th></th>\n",
              "      <th>0</th>\n",
              "      <th>1</th>\n",
              "      <th>2</th>\n",
              "      <th>3</th>\n",
              "      <th>4</th>\n",
              "      <th>5</th>\n",
              "      <th>6</th>\n",
              "      <th>7</th>\n",
              "    </tr>\n",
              "  </thead>\n",
              "  <tbody>\n",
              "    <tr>\n",
              "      <th>count</th>\n",
              "      <td>392.000000</td>\n",
              "      <td>392.000000</td>\n",
              "      <td>392.000000</td>\n",
              "      <td>392.000000</td>\n",
              "      <td>392.000000</td>\n",
              "      <td>392.000000</td>\n",
              "      <td>392.000000</td>\n",
              "      <td>392.000000</td>\n",
              "    </tr>\n",
              "    <tr>\n",
              "      <th>mean</th>\n",
              "      <td>0.494388</td>\n",
              "      <td>0.326646</td>\n",
              "      <td>0.317768</td>\n",
              "      <td>0.386897</td>\n",
              "      <td>0.448888</td>\n",
              "      <td>0.498299</td>\n",
              "      <td>0.201531</td>\n",
              "      <td>0.625000</td>\n",
              "    </tr>\n",
              "    <tr>\n",
              "      <th>std</th>\n",
              "      <td>0.341157</td>\n",
              "      <td>0.270398</td>\n",
              "      <td>0.209191</td>\n",
              "      <td>0.240829</td>\n",
              "      <td>0.164218</td>\n",
              "      <td>0.306978</td>\n",
              "      <td>0.401656</td>\n",
              "      <td>0.484742</td>\n",
              "    </tr>\n",
              "    <tr>\n",
              "      <th>min</th>\n",
              "      <td>0.000000</td>\n",
              "      <td>0.000000</td>\n",
              "      <td>0.000000</td>\n",
              "      <td>0.000000</td>\n",
              "      <td>0.000000</td>\n",
              "      <td>0.000000</td>\n",
              "      <td>0.000000</td>\n",
              "      <td>0.000000</td>\n",
              "    </tr>\n",
              "    <tr>\n",
              "      <th>25%</th>\n",
              "      <td>0.200000</td>\n",
              "      <td>0.095607</td>\n",
              "      <td>0.157609</td>\n",
              "      <td>0.173589</td>\n",
              "      <td>0.343750</td>\n",
              "      <td>0.250000</td>\n",
              "      <td>0.000000</td>\n",
              "      <td>0.000000</td>\n",
              "    </tr>\n",
              "    <tr>\n",
              "      <th>50%</th>\n",
              "      <td>0.200000</td>\n",
              "      <td>0.214470</td>\n",
              "      <td>0.258152</td>\n",
              "      <td>0.337539</td>\n",
              "      <td>0.446429</td>\n",
              "      <td>0.500000</td>\n",
              "      <td>0.000000</td>\n",
              "      <td>1.000000</td>\n",
              "    </tr>\n",
              "    <tr>\n",
              "      <th>75%</th>\n",
              "      <td>1.000000</td>\n",
              "      <td>0.536822</td>\n",
              "      <td>0.434783</td>\n",
              "      <td>0.567550</td>\n",
              "      <td>0.537202</td>\n",
              "      <td>0.750000</td>\n",
              "      <td>0.000000</td>\n",
              "      <td>1.000000</td>\n",
              "    </tr>\n",
              "    <tr>\n",
              "      <th>max</th>\n",
              "      <td>1.000000</td>\n",
              "      <td>1.000000</td>\n",
              "      <td>1.000000</td>\n",
              "      <td>1.000000</td>\n",
              "      <td>1.000000</td>\n",
              "      <td>1.000000</td>\n",
              "      <td>1.000000</td>\n",
              "      <td>1.000000</td>\n",
              "    </tr>\n",
              "  </tbody>\n",
              "</table>\n",
              "</div>\n",
              "      <button class=\"colab-df-convert\" onclick=\"convertToInteractive('df-e5d77c78-7527-4dd2-8816-879c66a78433')\"\n",
              "              title=\"Convert this dataframe to an interactive table.\"\n",
              "              style=\"display:none;\">\n",
              "        \n",
              "  <svg xmlns=\"http://www.w3.org/2000/svg\" height=\"24px\"viewBox=\"0 0 24 24\"\n",
              "       width=\"24px\">\n",
              "    <path d=\"M0 0h24v24H0V0z\" fill=\"none\"/>\n",
              "    <path d=\"M18.56 5.44l.94 2.06.94-2.06 2.06-.94-2.06-.94-.94-2.06-.94 2.06-2.06.94zm-11 1L8.5 8.5l.94-2.06 2.06-.94-2.06-.94L8.5 2.5l-.94 2.06-2.06.94zm10 10l.94 2.06.94-2.06 2.06-.94-2.06-.94-.94-2.06-.94 2.06-2.06.94z\"/><path d=\"M17.41 7.96l-1.37-1.37c-.4-.4-.92-.59-1.43-.59-.52 0-1.04.2-1.43.59L10.3 9.45l-7.72 7.72c-.78.78-.78 2.05 0 2.83L4 21.41c.39.39.9.59 1.41.59.51 0 1.02-.2 1.41-.59l7.78-7.78 2.81-2.81c.8-.78.8-2.07 0-2.86zM5.41 20L4 18.59l7.72-7.72 1.47 1.35L5.41 20z\"/>\n",
              "  </svg>\n",
              "      </button>\n",
              "      \n",
              "  <style>\n",
              "    .colab-df-container {\n",
              "      display:flex;\n",
              "      flex-wrap:wrap;\n",
              "      gap: 12px;\n",
              "    }\n",
              "\n",
              "    .colab-df-convert {\n",
              "      background-color: #E8F0FE;\n",
              "      border: none;\n",
              "      border-radius: 50%;\n",
              "      cursor: pointer;\n",
              "      display: none;\n",
              "      fill: #1967D2;\n",
              "      height: 32px;\n",
              "      padding: 0 0 0 0;\n",
              "      width: 32px;\n",
              "    }\n",
              "\n",
              "    .colab-df-convert:hover {\n",
              "      background-color: #E2EBFA;\n",
              "      box-shadow: 0px 1px 2px rgba(60, 64, 67, 0.3), 0px 1px 3px 1px rgba(60, 64, 67, 0.15);\n",
              "      fill: #174EA6;\n",
              "    }\n",
              "\n",
              "    [theme=dark] .colab-df-convert {\n",
              "      background-color: #3B4455;\n",
              "      fill: #D2E3FC;\n",
              "    }\n",
              "\n",
              "    [theme=dark] .colab-df-convert:hover {\n",
              "      background-color: #434B5C;\n",
              "      box-shadow: 0px 1px 3px 1px rgba(0, 0, 0, 0.15);\n",
              "      filter: drop-shadow(0px 1px 2px rgba(0, 0, 0, 0.3));\n",
              "      fill: #FFFFFF;\n",
              "    }\n",
              "  </style>\n",
              "\n",
              "      <script>\n",
              "        const buttonEl =\n",
              "          document.querySelector('#df-e5d77c78-7527-4dd2-8816-879c66a78433 button.colab-df-convert');\n",
              "        buttonEl.style.display =\n",
              "          google.colab.kernel.accessAllowed ? 'block' : 'none';\n",
              "\n",
              "        async function convertToInteractive(key) {\n",
              "          const element = document.querySelector('#df-e5d77c78-7527-4dd2-8816-879c66a78433');\n",
              "          const dataTable =\n",
              "            await google.colab.kernel.invokeFunction('convertToInteractive',\n",
              "                                                     [key], {});\n",
              "          if (!dataTable) return;\n",
              "\n",
              "          const docLinkHtml = 'Like what you see? Visit the ' +\n",
              "            '<a target=\"_blank\" href=https://colab.research.google.com/notebooks/data_table.ipynb>data table notebook</a>'\n",
              "            + ' to learn more about interactive tables.';\n",
              "          element.innerHTML = '';\n",
              "          dataTable['output_type'] = 'display_data';\n",
              "          await google.colab.output.renderOutput(dataTable, element);\n",
              "          const docLink = document.createElement('div');\n",
              "          docLink.innerHTML = docLinkHtml;\n",
              "          element.appendChild(docLink);\n",
              "        }\n",
              "      </script>\n",
              "    </div>\n",
              "  </div>\n",
              "  "
            ]
          },
          "metadata": {},
          "execution_count": 194
        }
      ]
    },
    {
      "cell_type": "code",
      "source": [
        "model = MLPRegressor(hidden_layer_sizes={100, 200,10}, activation='relu',\n",
        "solver='adam', max_iter= 5000)\n",
        "model = make_pipeline(MinMaxScaler(), model)\n",
        "model.fit(X_train, y_train)\n",
        "yhat = model.predict(X_test)\n",
        "#évaluer les predictions\n",
        "score = mean_squared_error(y_test, yhat)\n",
        "print('MSE : %.3f' %score)"
      ],
      "metadata": {
        "colab": {
          "base_uri": "https://localhost:8080/"
        },
        "id": "TOxcziMB6XcT",
        "outputId": "65c79315-090d-4d3f-ef60-7b5334b34fd0"
      },
      "execution_count": null,
      "outputs": [
        {
          "output_type": "stream",
          "name": "stdout",
          "text": [
            "MSE : 5.547\n"
          ]
        }
      ]
    },
    {
      "cell_type": "code",
      "source": [
        "import matplotlib.pyplot as plt"
      ],
      "metadata": {
        "id": "b8sy2Nys6dqz"
      },
      "execution_count": null,
      "outputs": []
    },
    {
      "cell_type": "code",
      "source": [
        "fig, axs = plt.subplots(2, 2)\n",
        "axs[0, 0].scatter(yhat_LR, yhat_LR-y_test)\n",
        "axs[0, 0].plot([0,40],[0,0],color='black')\n",
        "axs[0, 0].set_title(\"LR\")\n",
        "axs[0, 0].set_ylabel('Residuals (y_real-yhat)')\n",
        "axs[1, 0].scatter(yhat_LR, yhat_tree-y_test)\n",
        "axs[1, 0].plot([0,40],[0,0],color='black')\n",
        "axs[1, 0].set_title(\"Tree Regressor\")\n",
        "axs[1, 0].set_ylabel('Residuals (y_real-yhat)')\n",
        "axs[1, 0].sharex(axs[0, 0])\n",
        "axs[0, 1].scatter(yhat_LR, yhat_SVR-y_test)\n",
        "axs[0, 1].plot([0,40],[0,0],color='black')\n",
        "axs[0, 1].set_title(\"SVR\")\n",
        "axs[0, 1].set_ylabel('Residuals (y_real-yhat)')\n",
        "axs[1, 1].scatter(yhat_LR, yhat_MLP-y_test)\n",
        "axs[1, 1].plot([0,40],[0,0],color='black')\n",
        "axs[1, 1].set_title(\"MLP\")\n",
        "axs[1, 1].set_ylabel('Residuals (y_real-yhat)')\n",
        "fig.tight_layout()"
      ],
      "metadata": {
        "colab": {
          "base_uri": "https://localhost:8080/",
          "height": 297
        },
        "id": "6LhLuA_a6aSf",
        "outputId": "ce4eb168-440d-43b6-e2ee-2f4ad0ea3e2c"
      },
      "execution_count": null,
      "outputs": [
        {
          "output_type": "display_data",
          "data": {
            "text/plain": [
              "<Figure size 432x288 with 4 Axes>"
            ],
            "image/png": "[encoded data removed]"
          },
          "metadata": {
            "needs_background": "light"
          }
        }
      ]
    },
    {
      "cell_type": "code",
      "source": [
        "fig, axs = plt.subplots(2, 2)\n",
        "axs[0, 0].scatter(y_test, yhat_LR, color = \"g\")\n",
        "axs[0, 0].plot(y_test, y_test, color = \"gray\", label = \"identity\")\n",
        "axs[0, 0].set_title(\"LR\")\n",
        "axs[0, 0].set_xlabel(\"y test(mpg)\")\n",
        "axs[0, 0].set_ylabel('y hat(mpg)')\n",
        "axs[0, 0].legend()\n",
        "axs[1, 0].scatter(y_test, yhat_tree, color = \"g\")\n",
        "axs[1, 0].plot(y_test, y_test, color = \"gray\", label = \"identity\")\n",
        "axs[1, 0].set_title(\"Tree Regressor\")\n",
        "axs[1, 0].set_xlabel(\"y test(mpg)\")\n",
        "axs[1, 0].set_ylabel('y hat(mpg)')\n",
        "axs[1, 0].sharex(axs[0, 0])\n",
        "axs[1, 0].legend()\n",
        "axs[0, 1].scatter(y_test, yhat_SVR, color = \"g\")\n",
        "axs[0, 1].plot(y_test, y_test, color = \"gray\", label = \"identity\")\n",
        "axs[0, 1].set_title(\"SVR\")\n",
        "axs[0, 1].set_xlabel(\"y test(mpg)\")\n",
        "axs[0, 1].set_ylabel('y hat(mpg)')\n",
        "axs[0, 1].legend()\n",
        "axs[1, 1].scatter(y_test, yhat_MLP, color = \"g\")\n",
        "axs[1, 1].plot(y_test, y_test, color = \"gray\", label = \"identity\")\n",
        "axs[1, 1].set_title(\"MLP\")\n",
        "axs[1, 1].set_xlabel(\"y test(mpg)\")\n",
        "axs[1, 1].set_ylabel('y hat(mpg)')\n",
        "axs[1, 1].legend()\n",
        "fig.tight_layout()"
      ],
      "metadata": {
        "colab": {
          "base_uri": "https://localhost:8080/",
          "height": 297
        },
        "id": "Ekxqx11h6n3u",
        "outputId": "ee79b11d-c339-456c-84cc-6807f849f68e"
      },
      "execution_count": null,
      "outputs": [
        {
          "output_type": "display_data",
          "data": {
            "text/plain": [
              "<Figure size 432x288 with 4 Axes>"
            ],
            "image/png": "[encoded data removed]"
          },
          "metadata": {
            "needs_background": "light"
          }
        }
      ]
    },
    {
      "cell_type": "code",
      "source": [
        "fig, axs = plt.subplots(2, 2)\n",
        "axs[0, 0].plot(range(0,len(y_test)),yhat_LR, color= \"red\")\n",
        "axs[0, 0].plot(range(0,len(y_test)),y_test, color= \"green\")\n",
        "axs[0, 0].set_title(\"LR\")\n",
        "axs[1, 0].plot(range(0,len(y_test)),yhat_tree, color= \"red\")\n",
        "axs[1, 0].plot(range(0,len(y_test)),y_test, color= \"green\")\n",
        "axs[1, 0].set_title(\"Tree Regressor\")\n",
        "axs[1, 0].sharex(axs[0, 0])\n",
        "axs[0, 1].plot(range(0,len(y_test)),yhat_SVR, color= \"red\")\n",
        "axs[0, 1].plot(range(0,len(y_test)),y_test, color= \"green\")\n",
        "axs[0, 1].set_title(\"SVR\")\n",
        "axs[1, 1].plot(range(0,len(y_test)),yhat_MLP, color= \"red\")\n",
        "axs[1, 1].plot(range(0,len(y_test)),y_test, color= \"green\")\n",
        "axs[1, 1].set_title(\"MLP\")\n",
        "fig.tight_layout()"
      ],
      "metadata": {
        "colab": {
          "base_uri": "https://localhost:8080/",
          "height": 297
        },
        "id": "rA0YvcxD6w-b",
        "outputId": "290a42fc-a26f-4dcf-ecfa-4e5b5cbb66d1"
      },
      "execution_count": null,
      "outputs": [
        {
          "output_type": "display_data",
          "data": {
            "text/plain": [
              "<Figure size 432x288 with 4 Axes>"
            ],
            "image/png": "[encoded data removed]"
          },
          "metadata": {
            "needs_background": "light"
          }
        }
      ]
    }
  ]
}